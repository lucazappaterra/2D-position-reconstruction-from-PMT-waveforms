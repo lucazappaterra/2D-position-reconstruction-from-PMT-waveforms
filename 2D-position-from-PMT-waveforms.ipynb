{
  "cells": [
    {
      "cell_type": "markdown",
      "source": [
        "# **Position Reconstruction using PMTs waveforms from CYGNO LIME 2 detector**"
      ],
      "metadata": {
        "id": "PXEaPqHoe5Y8"
      }
    },
    {
      "cell_type": "markdown",
      "source": [
        "* The idea of this project came from a laboratory activity done in Laboratori Nazionali di Frascati, based on the CYGNO experiment for Directional Dark Matter search.\n",
        "* The main goal is to study the behaviour and efficiency of two possible Neural Network architectures able to analyze the waveforms extracted from 4 PMTs, positioned at the corners of a squared-based cone, when a particle crosses the detector.\n",
        "* A possible application of such a Neural Network is the 3D reconstruction of the particle's track, if combined with the images from the LIME Time Projection Chamber. Neveretheless, this part will not be covered in this project, since it would require appropriate data analysis from the underground facility in Laboratori Nazionali del Gran Sasso.\n",
        "* The network study is expanded with a **toy model simulation**, and the results are presented as squared **RMSE-colormaps** which are able to provide at glance the network's predictions precision over the scanned regions.\n",
        "\n",
        "The dataset used to train the networks can be found on [Google Drive](https://drive.google.com/drive/folders/1-3Ghqj2Ps7Avec3rxHVLbOZatDtLko-8?usp=sharing), along with a .csv file used to keep track of the target positions scanned in the various runs. \\\\\n",
        "Moreover, a folder containg some relevant pre-trained models can be found at the same link.\n",
        "In order for the code to work, **please add a shortcut to this folder on your main GDrive folder**.\n",
        "\n",
        "```\n",
        "Code by Luca Zappaterra, last modified: 11/07/2022\n",
        "```\n",
        "\n"
      ],
      "metadata": {
        "id": "WtjHdmU7fQYn"
      }
    },
    {
      "cell_type": "markdown",
      "metadata": {
        "id": "fawvTpBeQH8Y"
      },
      "source": [
        "# WandB installs, imports and login"
      ]
    },
    {
      "cell_type": "markdown",
      "metadata": {
        "id": "WsSB-Hi5BIgn"
      },
      "source": [
        "[Weights and Biases](https://wandb.ai/) is a powerful tool to keep track of ML/DL projects, but to run the code with `LOG_TO_WANDB=True` it is required to create an account. \\\\\n",
        "To run this code with no W&B log, just switch to `LOG_TO_WANDB=False` in the last cell of this section."
      ]
    },
    {
      "cell_type": "code",
      "execution_count": null,
      "metadata": {
        "id": "rdwVoep4PHgp"
      },
      "outputs": [],
      "source": [
        "# install wandb and fastprogress to implement a fancy progressbar\n",
        "!pip install fastprogress -Uqqq\n",
        "!pip install wandb --upgrade -Uqqq\n",
        "\n",
        "# also install torchinfo and torchviz, just in case\n",
        "!pip install torchinfo -q\n",
        "!pip install torchviz -q\n",
        "\n",
        "from IPython.display import display, clear_output\n",
        "clear_output()"
      ]
    },
    {
      "cell_type": "code",
      "execution_count": null,
      "metadata": {
        "id": "PeXWm4j5QDqq"
      },
      "outputs": [],
      "source": [
        "# import useful modules\n",
        "import os\n",
        "import PIL\n",
        "import time\n",
        "import copy\n",
        "import torch\n",
        "import numpy as np\n",
        "import pandas as pd\n",
        "from os import listdir\n",
        "from os.path import isfile, join\n",
        "from torchvision import transforms\n",
        "from torch.utils.data import Dataset, DataLoader\n",
        "from fastprogress.fastprogress import master_bar, progress_bar\n",
        "from datetime import datetime\n",
        "import matplotlib.pyplot as plt\n",
        "\n",
        "\n",
        "# set custom params for plots\n",
        "plt.rcParams['figure.titlesize'] = 18\n",
        "plt.rcParams['axes.grid'] = True\n",
        "plt.rcParams['grid.alpha'] = .5\n",
        "plt.rcParams['grid.linestyle'] = '--'\n",
        "plt.rcParams['figure.figsize'] = 12, 7\n",
        "plt.rcParams['figure.dpi'] = 200\n",
        "plt.rcParams['figure.subplot.wspace'] = 0.2\n",
        "plt.rcParams['figure.subplot.hspace'] = 0.4"
      ]
    },
    {
      "cell_type": "code",
      "execution_count": null,
      "metadata": {
        "id": "CfBlocItVXtT"
      },
      "outputs": [],
      "source": [
        "import wandb\n",
        "\n",
        "LOG_TO_WANDB = False\n",
        "\n",
        "if LOG_TO_WANDB: wandb.login()"
      ]
    },
    {
      "cell_type": "markdown",
      "metadata": {
        "id": "9BFRjZiPQPkP"
      },
      "source": [
        "# CYGNO-related stuff"
      ]
    },
    {
      "cell_type": "markdown",
      "metadata": {
        "id": "fI3P6kyvCS9d"
      },
      "source": [
        "**This is really crucial!** The dataset is encoded in a particular format which is managed by the `midas` module. \\\\\n",
        "Moreover, some useful pre-built access function are provided in the [`cygno`](https://github.com/CYGNUS-RD/cygno) module, maintained by the LNF and LNGS researchers."
      ]
    },
    {
      "cell_type": "code",
      "execution_count": null,
      "metadata": {
        "id": "mcpAyu7vQSjF"
      },
      "outputs": [],
      "source": [
        "# CYGNO lib and dependencies installs\n",
        "!pip install 'https://github.com/CYGNUS-RD/middleware/blob/master/midas/midaslib.tar.gz?raw=t!rue' -q\n",
        "!pip install -U git+https://git@github.com/dodas-ts/boto3sts -q\n",
        "!pip install git+https://github.com/CYGNUS-RD/cygno.git -U -q\n",
        "\n",
        "clear_output()"
      ]
    },
    {
      "cell_type": "code",
      "execution_count": null,
      "metadata": {
        "id": "nFc6-TetQozi"
      },
      "outputs": [],
      "source": [
        "# import cygno libs\n",
        "import midas.file_reader\n",
        "import cygno as cy"
      ]
    },
    {
      "cell_type": "markdown",
      "source": [
        "# Enviroment settings"
      ],
      "metadata": {
        "id": "vU-Mjd6-9rG0"
      }
    },
    {
      "cell_type": "markdown",
      "metadata": {
        "id": "09N5gIYUE8dI"
      },
      "source": [
        "This notebook is thought to run on Colab, Sagemaker and on the INFN-Cloud, so switching from `notebook_is_onColab = True` and `notebook_is_onColab = False` changes some relevant variables on the fly. \\\\\n",
        "In case of an existing GPU, this cell also creates a `device` variable."
      ]
    },
    {
      "cell_type": "code",
      "execution_count": null,
      "metadata": {
        "colab": {
          "base_uri": "https://localhost:8080/"
        },
        "id": "ZTro6QuwRFvt",
        "outputId": "6d24c92b-843f-4634-a664-548725f97375"
      },
      "outputs": [
        {
          "output_type": "stream",
          "name": "stdout",
          "text": [
            "Mounted at /content/drive\n",
            "# of GPUs available:  1\n",
            "First GPU type:  Tesla T4\n",
            "Computation device: cuda:0\n",
            "\n"
          ]
        }
      ],
      "source": [
        "# Correct data path and device initialization\n",
        "notebook_is_onColab = True\n",
        "notebook_is_onSagem = False\n",
        "\n",
        "if notebook_is_onSagem & (not notebook_is_onColab):\n",
        "  data_path = '/home/studio-lab-user/sagemaker-studiolab-notebooks/RETE/Data/'\n",
        "\n",
        "elif notebook_is_onColab & (not notebook_is_onSagem):\n",
        "  from google.colab import drive\n",
        "  data_path = '/content/drive/MyDrive/Data/'\n",
        "  drive.mount('/content/drive')\n",
        "elif notebook_is_onSagem & notebook_is_onColab:\n",
        "    raise ValueError(\"You can't be both on Colab and Sagemaker! Please declare the correct position.\")\n",
        "else:\n",
        "  data_path = '/jupyter-workspace/cloud-storage/cygno-data/STD'\n",
        "\n",
        "# Check GPU existence and setup the device\n",
        "if torch.cuda.is_available():\n",
        "  print('# of GPUs available: ', torch.cuda.device_count())\n",
        "  print('First GPU type: ',torch.cuda.get_device_name(0))\n",
        "device = ('cuda:0' if torch.cuda.is_available() else 'cpu')\n",
        "print(f\"Computation device: {device}\\n\")"
      ]
    },
    {
      "cell_type": "markdown",
      "metadata": {
        "id": "JdSwj7m4wWxK",
        "jp-MarkdownHeadingCollapsed": true,
        "tags": []
      },
      "source": [
        "# Helper functions"
      ]
    },
    {
      "cell_type": "markdown",
      "metadata": {
        "id": "5A5CQ3olGC4B"
      },
      "source": [
        "Here are enclosed some useful functions which permit to access/plot data in one line."
      ]
    },
    {
      "cell_type": "code",
      "execution_count": null,
      "metadata": {
        "id": "yVaHlYagqeUa"
      },
      "outputs": [],
      "source": [
        "def plot(waveform, label=None, limits=(0, 1024), run='unknown', dark=False, trigger=True):\n",
        "    \"\"\"\n",
        "\n",
        "    help function to plot waveforms in one line\n",
        "\n",
        "    \"\"\"\n",
        "    if dark==True: plt.style.use('dark_background')\n",
        "\n",
        "    flag=0\n",
        "    if not trigger: flag=1\n",
        "\n",
        "    t = np.linspace(0, limits[1], limits[1]-limits[0])\n",
        "\n",
        "    fig, ax = plt.subplots(2,2)\n",
        "    fig.suptitle(f'PMT waveforms for run={run} \\n LED position: {label}')\n",
        "\n",
        "    ax[0,0].plot(t, waveform[1-flag][limits[0]:limits[1]])\n",
        "    ax[0,0].title.set_text(f'PMT 1')\n",
        "    ax[0,0].set_xlabel(f'Time [s]')\n",
        "    ax[0,0].set_ylabel(f'Voltage [V]')\n",
        "\n",
        "    ax[0,1].plot(t, waveform[2-flag][limits[0]:limits[1]])\n",
        "    ax[0,1].title.set_text(f'PMT 2')\n",
        "    ax[0,1].set_xlabel(f'Time [s]')\n",
        "    ax[0,1].set_ylabel(f'Voltage [V]')\n",
        "\n",
        "    ax[1,0].plot(t, waveform[3-flag][limits[0]:limits[1]])\n",
        "    ax[1,0].title.set_text(f'PMT 3')\n",
        "    ax[1,0].set_xlabel(f'Time [s]')\n",
        "    ax[1,0].set_ylabel(f'Voltage [V]')\n",
        "\n",
        "    ax[1,1].plot(t, waveform[4-flag][limits[0]:limits[1]])\n",
        "    ax[1,1].title.set_text(f'PMT 4')\n",
        "    ax[1,1].set_xlabel(f'Time [s]')\n",
        "    ax[1,1].set_ylabel(f'Voltage [V]')\n",
        "\n",
        "    # plt.savefig('/content/drive/MyDrive/PhysLabII-Cygno/Rete/Simulation/seen_waveforms.pdf')\n",
        "    # plt.savefig('/content/drive/MyDrive/PhysLabII-Cygno/Rete/Simulation/seen_waveforms.png')\n",
        "    plt.show()\n",
        "\n",
        "def event_count(mfile, interested_event_id=1):\n",
        "  \"\"\"\n",
        "\n",
        "  help function count events tagged with a certain 'interested_event_id' in midas files\n",
        "\n",
        "  \"\"\"\n",
        "  count=0\n",
        "  for event in mfile:\n",
        "    if event.header.event_id==1: count+=1\n",
        "  mfile.jump_to_start()\n",
        "  return count\n",
        "\n",
        "def get_waveform(mfile, outsize, max_channels=32, view=False, truncate=False, verbose=False):\n",
        "  \"\"\"\n",
        "\n",
        "  help function which extracts waveforms from midas file\n",
        "  with given output size (# of total events).\n",
        "  If view=True it also plots PMTs waveforms every 1000 events\n",
        "\n",
        "  \"\"\"\n",
        "  a = np.ndarray(shape=(outsize, max_channels, 1024))\n",
        "  count = 0\n",
        "\n",
        "  for event in mfile:\n",
        "    if truncate and count==outsize:\n",
        "        if verbose: print(\"I'll stop here, bye!\")\n",
        "        break\n",
        "\n",
        "    if event.header.is_midas_internal_event():\n",
        "        if verbose: print(\"Saw a special event\")\n",
        "        continue\n",
        "\n",
        "    if event.header.event_id!=1:\n",
        "        if verbose: print(\"not 1\", count, event.header.serial_number)\n",
        "        continue\n",
        "\n",
        "    bank_names = \", \".join(b.name for b in event.banks.values())\n",
        "\n",
        "    for bank_name, bank in event.banks.items():\n",
        "        if bank_name=='DGH0': # PMTs waveform\n",
        "            header = cy.daq_dgz2header(bank)\n",
        "            if header[0] != 1: # if ecountered, an event with header (2,32,1024) is stored in the output vector maintaining only the meaningful signal,\n",
        "                               # i.e. the second 32x1024 vector\n",
        "              print(f\"This event has a wrong header: {header}; count: {count}\" ) # output -> (1,32,1024) ≡ 1 digitalizzatore, 32 canali, 1024 lunghezza\n",
        "              if verbose: print(\"Event # %s of type ID %s contains banks %s\" % (event.header.serial_number, event.header.event_id, bank_names))\n",
        "              b = np.asarray( cy.daq_dgz2array(event.banks['DIG0'], (1, header[0]*header[1], header[2]) ) )\n",
        "              _, c = np.array_split(b, header[0])\n",
        "              a[count] = c[:max_channels]\n",
        "              count+=1\n",
        "              continue\n",
        "\n",
        "            # this is the way we store the data: waveform has 32 channels,\n",
        "            # but the interesting ones are 0 (aka the trigger) and 1,2,3,4 (aka the 4 PMTs)\n",
        "            a[count] = np.asarray( cy.daq_dgz2array(event.banks['DIG0'], header)[:max_channels] )\n",
        "            count+=1\n",
        "\n",
        "            if count%1000==0 and view :\n",
        "              plot(a[count])\n",
        "              print(count)\n",
        "  return a"
      ]
    },
    {
      "cell_type": "markdown",
      "metadata": {
        "id": "7Q9B8D68wbIy",
        "jp-MarkdownHeadingCollapsed": true,
        "tags": []
      },
      "source": [
        "# Load dataset"
      ]
    },
    {
      "cell_type": "markdown",
      "metadata": {
        "id": "iKIzXKiaoxrT"
      },
      "source": [
        "We define two `Dataset` instances in order to properly acquire and organize the dataset, which is stored on [Google Drive](https://drive.google.com/drive/folders/1-3Ghqj2Ps7Avec3rxHVLbOZatDtLko-8?usp=sharing). \\\\\n",
        "In order for the code to work, **please add a shortcut to this folder on your main GDrive folder**."
      ]
    },
    {
      "cell_type": "code",
      "execution_count": null,
      "metadata": {
        "id": "K6XB0-e-T5L6"
      },
      "outputs": [],
      "source": [
        "class Cygno_dataset(Dataset):\n",
        "    def __init__(self, labels, directory, selected_run, max_channels=32, truncate=False, truncate_until=None, transform=torch.Tensor, target_transform=torch.Tensor, device='cpu', normalize=False):\n",
        "      '''\n",
        "      Args:\n",
        "        Positional\n",
        "          labels : a .csv file in wich information about the runs are accordingly stored\n",
        "          directory : the position of the files\n",
        "          selected_run : int number between [150, 157)U[163, 238)\n",
        "\n",
        "        Optional\n",
        "          max_channels : if specified, picks up only the first N channels until 'max_channels' (default=32)\n",
        "                         NOTE: this is useful since some of the data channels are empty\n",
        "                         but slow down the process of data collection if inspected, moreover they can cause some serious\n",
        "                         memory leakage problems\n",
        "          truncate : If True, data collection is stopped to a certain number of events,\n",
        "                    specified by the argument 'truncate_until' (default=False)\n",
        "          truncate_until : if specified collects only a certain amount of data from\n",
        "                           the selected file(default=None)\n",
        "          transform : tranforms data to a certain type (default=torch.Tensor)\n",
        "          target_transform : tranforms the dataset label to a certain type (default=torch.Tensor)\n",
        "          device='cpu' : when calling the __getitem__ method, data are sent to\n",
        "                         any specified device (default='cpu')\n",
        "          normalize : if True, normalizes the data to their maximum value along\n",
        "                      all the dataset (default=False)\n",
        "      '''\n",
        "      self.transform = transform\n",
        "      self.target_transform = target_transform\n",
        "      self.device = device\n",
        "      self.run_numb = selected_run\n",
        "      description = csv.iloc[self.run_numb-2, 1].replace(',', ' ').split()\n",
        "      self.label = ( int(description[0]), int(description[1]) )\n",
        "      self.wf_dir = directory\n",
        "\n",
        "\n",
        "      mfile = cy.open_mid(run=self.run_numb, path=self.wf_dir, cloud=True, tag='STD', verbose=False)\n",
        "      if not truncate: self.tot_events = event_count(mfile, interested_serial_number=1)\n",
        "      else: self.tot_events = round(truncate_until)\n",
        "\n",
        "      self.waveform = get_waveform(mfile, outsize=self.tot_events, max_channels=max_channels, truncate=truncate)\n",
        "      if normalize: self.waveform/=self.waveform[:,1:5].max()\n",
        "\n",
        "    def __len__(self):\n",
        "      return self.tot_events\n",
        "\n",
        "    def __getitem__(self, idx):\n",
        "      '''data are transformed only when requested (if not tensors already)'''\n",
        "      if not torch.is_tensor(self.waveform):\n",
        "        if self.transform:\n",
        "            self.waveform = self.transform(self.waveform).to(self.device)\n",
        "        if self.target_transform:\n",
        "            self.label = self.target_transform(self.label).to(self.device)\n",
        "        return self.waveform[idx], self.label, self.run_numb\n",
        "      else: return self.waveform[idx], self.label, self.run_numb\n",
        "\n",
        "\n",
        "class ConcatDataset(Dataset):\n",
        "    def __init__(self, *datasets):\n",
        "      '''\n",
        "      Returns dataset containing a certain number of Cygno_dataset instances properly\n",
        "      concatenated.\n",
        "      Args:\n",
        "          *dataset: a list of datasets, no matter the lenght\n",
        "      '''\n",
        "      self.datasets = datasets\n",
        "      self.labels = [dataset.label for dataset in datasets]\n",
        "      self.runs = [dataset.run_numb for dataset in datasets]\n",
        "\n",
        "\n",
        "    def __len__(self):\n",
        "      tot_len = sum(len(dataset) for dataset in self.datasets)\n",
        "      return tot_len\n",
        "\n",
        "    def __getitem__(self, i):\n",
        "      '''\n",
        "      Calling the dataset with a certain index returns a random sample from one\n",
        "      of the dataset which constructs the ConcatDataset.\n",
        "      This is useful since we don't want to train the network passing to it similar\n",
        "      data in sequence.\n",
        "      '''\n",
        "      prob = np.random.randint(0, len(self.datasets))\n",
        "      return self.datasets[prob][round(i/len(self))] # un po' magheggiata? chissà"
      ]
    },
    {
      "cell_type": "code",
      "execution_count": null,
      "metadata": {
        "id": "gDWuLXlOFSEr"
      },
      "outputs": [],
      "source": [
        "dataset = Cygno_dataset # CustomDataset selection"
      ]
    },
    {
      "cell_type": "code",
      "execution_count": null,
      "metadata": {
        "colab": {
          "base_uri": "https://localhost:8080/",
          "height": 55
        },
        "id": "jLm-TqApE9bo",
        "outputId": "e885233a-2e3e-4b38-d909-e4ba3e6091d5"
      },
      "outputs": [
        {
          "output_type": "stream",
          "name": "stdout",
          "text": [
            "Task completed in 2m 59s\n"
          ]
        }
      ],
      "source": [
        "# Exclude some runs from the loop (some were done with PMT turned off :c )\n",
        "interesting_runs = progress_bar( [ *range(150, 157), *range(163, 238) ] )\n",
        "events_per_dataset=1000\n",
        "print('Starting data collection ... ')\n",
        "since=time.time()\n",
        "\n",
        "# Load csv file to access the data corresponding labels\n",
        "# ('Data' GDrive folder access required)\n",
        "csv = pd.read_csv(data_path+'Runlog.csv')\n",
        "\n",
        "# Every opened dataset is appended to a list which will eventually\n",
        "# be used to create a concatenated dataset\n",
        "all_dataset = [ dataset(labels=csv,\n",
        "                        directory=data_path,\n",
        "                        selected_run=run,\n",
        "                        max_channels=5,\n",
        "                        truncate=True,\n",
        "                        truncate_until=events_per_dataset,\n",
        "                        transform=torch.Tensor,\n",
        "                        target_transform=torch.Tensor,\n",
        "                        device=device,\n",
        "                        normalize=True) for run in interesting_runs ]\n",
        "\n",
        "time_elapsed=time.time()-since\n",
        "clear_output()\n",
        "print(f'Task completed in {time_elapsed // 60:.0f}m {time_elapsed % 60:.0f}s')"
      ]
    },
    {
      "cell_type": "markdown",
      "metadata": {
        "id": "DMg7XMAdW41B",
        "jp-MarkdownHeadingCollapsed": true,
        "tags": []
      },
      "source": [
        "## Dataloaders"
      ]
    },
    {
      "cell_type": "markdown",
      "metadata": {
        "id": "pq8trShtPN4u"
      },
      "source": [
        "Data is separated in train/test/val datasets, from which Dataloaders are constructed"
      ]
    },
    {
      "cell_type": "code",
      "execution_count": null,
      "metadata": {
        "id": "CgiDdUueW9qG"
      },
      "outputs": [],
      "source": [
        "# Data separation\n",
        "from torch.utils.data import DataLoader\n",
        "from sklearn.model_selection import train_test_split\n",
        "\n",
        "BATCH_SIZE = 32\n",
        "\n",
        "train_data, test_data = train_test_split(ConcatDataset(*all_dataset), test_size=0.2, random_state=123456)\n",
        "train_data, val_data = train_test_split(train_data, test_size=0.2, random_state=456789)\n",
        "\n",
        "train_dataloader = DataLoader(train_data, batch_size=BATCH_SIZE, shuffle=True)\n",
        "val_dataloader = DataLoader(val_data, batch_size=BATCH_SIZE, shuffle=True)\n",
        "\n",
        "# dataloaders dictionary which will be used in the training loop\n",
        "dataloaders = {'train': train_dataloader, 'val': val_dataloader}\n",
        "\n",
        "prints=False\n",
        "if prints:\n",
        "  print(train_data[0])\n",
        "  print(test_data[0])\n",
        "  print(val_data[0])\n",
        "  print(len(train_data) + len(test_data) + len(val_data))\n",
        "\n",
        "  for inputs, labels, runs in train_dataloader:\n",
        "    print(inputs[0], labels[0])\n",
        "    break"
      ]
    },
    {
      "cell_type": "markdown",
      "metadata": {
        "id": "lqsTfjB1WORB",
        "jp-MarkdownHeadingCollapsed": true,
        "tags": []
      },
      "source": [
        "# Network"
      ]
    },
    {
      "cell_type": "markdown",
      "metadata": {
        "id": "bqxcnfcpXJoc",
        "jp-MarkdownHeadingCollapsed": true,
        "tags": []
      },
      "source": [
        "## Skeleton"
      ]
    },
    {
      "cell_type": "markdown",
      "source": [
        "Here the architectures of the two tested networks are declared. \\\\\n",
        "*   The first is a simple Multi-Layer Perceptron, which takes in input one event (4 concatened channels) and outputs a position vector (x,y) after 4 layers\n",
        "*   The second is a 3-Head CNN followed by a MLP. The three heads have different kernel sizes, so they are able to output different \"context\" vectors, to embed correlation between information in different time windows.\n",
        "\n"
      ],
      "metadata": {
        "id": "QyPLKHsR_bcx"
      }
    },
    {
      "cell_type": "code",
      "execution_count": null,
      "metadata": {
        "id": "z0Q-IgjVWRJg"
      },
      "outputs": [],
      "source": [
        "from torch import nn, Tensor\n",
        "import torch.nn.functional as F\n",
        "\n",
        "# Simple MLP\n",
        "\n",
        "class Simple_MLP(nn.Module):\n",
        "    def __init__(self):\n",
        "        super(Simple_MLP, self).__init__()\n",
        "        self.model_type = 'MLP'\n",
        "        self.activ = nn.LeakyReLU()\n",
        "        self.layer1 = nn.Linear(1024*4, 256)\n",
        "        self.layer2 = nn.Linear(256, 64)\n",
        "        self.layer3 = nn.Linear(64, 32)\n",
        "        self.layer4 = nn.Linear(32, 2)\n",
        "\n",
        "    def forward(self, x):\n",
        "        out = self.activ( self.layer1( x.view(len(x),-1) ) )\n",
        "        out = self.activ( self.layer2( out ) )\n",
        "        out = self.activ( self.layer3( out ) )\n",
        "        out = self.layer4( out )\n",
        "        return out\n",
        "\n",
        "# Multi Convolutional Head (MCH)\n",
        "\n",
        "def hidden_layers(ksize, num_layers, hid_channels):\n",
        "  hlayers = []\n",
        "  for _ in range(num_layers):\n",
        "    hlayers.append(nn.Conv1d(in_channels=hid_channels, out_channels=hid_channels, kernel_size=ksize, padding='same'))\n",
        "    hlayers.append(nn.BatchNorm1d(hid_channels))\n",
        "    hlayers.append(nn.LeakyReLU())\n",
        "  return hlayers\n",
        "\n",
        "class MCH(nn.Module):\n",
        "\n",
        "  def __init__(self, ksize1: int=127, ksize2: int=255, ksize3: int=511, num_layers: int=2, hid_channels=16):\n",
        "\n",
        "    \"\"\"\n",
        "    Args:\n",
        "        ksize1: int, kernel size of the first Conv head (default=127),\n",
        "        ksize2: int, kernel size of the second Conv head (default=255),\n",
        "        ksize3: int, kernel size of the third Conv head (default=511),\n",
        "        num_layers: int, number of hidden layers in the central block (default=2)\n",
        "        hid_channels: int, number of channels of the central block hidden layers\n",
        "    \"\"\"\n",
        "    super(MCH, self).__init__()\n",
        "    self.model_type = 'Multi conv + lin'\n",
        "    self.hidden_channels=hid_channels\n",
        "    self.ksize1=ksize1\n",
        "    self.ksize2=ksize2\n",
        "    self.ksize3=ksize3\n",
        "\n",
        "    self.num_layers=num_layers\n",
        "    self.activ = nn.LeakyReLU()\n",
        "    self.bnorm = nn.BatchNorm1d(self.hidden_channels)\n",
        "    self.bnorm2 = nn.BatchNorm1d(4)\n",
        "    self.conv1 = nn.Conv1d(in_channels=4, out_channels=self.hidden_channels, kernel_size=self.ksize1, padding='same')\n",
        "    self.conv2 = nn.Conv1d(in_channels=4, out_channels=self.hidden_channels, kernel_size=self.ksize2, padding='same')\n",
        "    self.conv3 = nn.Conv1d(in_channels=4, out_channels=self.hidden_channels, kernel_size=self.ksize3, padding='same')\n",
        "\n",
        "    # central blocks: num_layers blocks with conv1d + BN + relu activation\n",
        "    hlayers1 = hidden_layers(self.ksize1, self.num_layers, self.hidden_channels)\n",
        "    hlayers2 = hidden_layers(self.ksize2, self.num_layers, self.hidden_channels)\n",
        "    hlayers3 = hidden_layers(self.ksize3, self.num_layers, self.hidden_channels)\n",
        "\n",
        "    self.central_block1 = nn.Sequential(*hlayers1)\n",
        "    self.central_block2 = nn.Sequential(*hlayers2)\n",
        "    self.central_block3 = nn.Sequential(*hlayers3)\n",
        "\n",
        "    self.conv1_bis = nn.Conv1d(in_channels=self.hidden_channels, out_channels=4, kernel_size=self.ksize1, padding='same')\n",
        "    self.conv2_bis = nn.Conv1d(in_channels=self.hidden_channels, out_channels=4, kernel_size=self.ksize2, padding='same')\n",
        "    self.conv3_bis = nn.Conv1d(in_channels=self.hidden_channels, out_channels=4, kernel_size=self.ksize3, padding='same')\n",
        "\n",
        "    self.lin1 = nn.Linear(in_features=4096*3, out_features=1024)\n",
        "    #self.lin2 = nn.Linear(in_features=2048, out_features=1024) this was implement in the beginning and then removed\n",
        "    self.lin3 = nn.Linear(in_features=1024, out_features=256)\n",
        "    self.lin4 = nn.Linear(in_features=256, out_features=64)\n",
        "    self.lin5 = nn.Linear(in_features=64, out_features=2)\n",
        "\n",
        "\n",
        "  def forward(self, x) -> Tensor:\n",
        "    out1=self.activ(self.conv1(x))\n",
        "    out2=self.activ(self.conv2(x))\n",
        "    out3=self.activ(self.conv3(x))\n",
        "\n",
        "    out1=self.central_block1(out1)\n",
        "    out2=self.central_block2(out2)\n",
        "    out3=self.central_block3(out3)\n",
        "\n",
        "    out1=self.activ(self.conv1_bis(out1))\n",
        "    out2=self.activ(self.conv2_bis(out2))\n",
        "    out3=self.activ(self.conv3_bis(out3))\n",
        "\n",
        "    out = self.activ(self.lin1( torch.cat( (out1.view(len(out1),-1), out2.view(len(out2),-1), out3.view(len(out3),-1)), dim=1) ) )\n",
        "    #out = self.lin2(out)\n",
        "    out = self.activ(self.lin3(out))\n",
        "    out = self.activ(self.lin4(out))\n",
        "    out = self.lin5(out)\n",
        "\n",
        "    return out"
      ]
    },
    {
      "cell_type": "code",
      "execution_count": null,
      "metadata": {
        "colab": {
          "base_uri": "https://localhost:8080/"
        },
        "id": "HUbTAF7JnrS_",
        "outputId": "e78577b6-c136-46b0-c10e-ecc8495ae6ca"
      },
      "outputs": [
        {
          "output_type": "execute_result",
          "data": {
            "text/plain": [
              "==========================================================================================\n",
              "Layer (type:depth-idx)                   Output Shape              Param #\n",
              "==========================================================================================\n",
              "Simple_MLP                               [32, 2]                   --\n",
              "├─Linear: 1-1                            [32, 256]                 1,048,832\n",
              "├─LeakyReLU: 1-2                         [32, 256]                 --\n",
              "├─Linear: 1-3                            [32, 64]                  16,448\n",
              "├─LeakyReLU: 1-4                         [32, 64]                  --\n",
              "├─Linear: 1-5                            [32, 32]                  2,080\n",
              "├─LeakyReLU: 1-6                         [32, 32]                  --\n",
              "├─Linear: 1-7                            [32, 2]                   66\n",
              "==========================================================================================\n",
              "Total params: 1,067,426\n",
              "Trainable params: 1,067,426\n",
              "Non-trainable params: 0\n",
              "Total mult-adds (M): 34.16\n",
              "==========================================================================================\n",
              "Input size (MB): 0.52\n",
              "Forward/backward pass size (MB): 0.09\n",
              "Params size (MB): 4.27\n",
              "Estimated Total Size (MB): 4.88\n",
              "=========================================================================================="
            ]
          },
          "metadata": {},
          "execution_count": 13
        }
      ],
      "source": [
        "from torchinfo import summary\n",
        "test_mod = Simple_MLP()#(num_layers=2, hid_channels=16).to(device)\n",
        "summary(test_mod, input_size=(32,4,1024))"
      ]
    },
    {
      "cell_type": "markdown",
      "metadata": {
        "id": "nHQVhY7FXwD2",
        "jp-MarkdownHeadingCollapsed": true,
        "tags": []
      },
      "source": [
        "## Checkpoints"
      ]
    },
    {
      "cell_type": "code",
      "execution_count": null,
      "metadata": {
        "id": "R46VZ0EDWcgO"
      },
      "outputs": [],
      "source": [
        "#Checkpoints (to save model parameters during training)\n",
        "class SaveBestModel:\n",
        "    def __init__(self, best_valid_loss=float('inf')): #object initialized with best_loss = +infinite\n",
        "        self.best_valid_loss = best_valid_loss\n",
        "\n",
        "    def __call__(\n",
        "        self, current_valid_loss,\n",
        "        epoch, model, optimizer, criterion, metric,\n",
        "    ):\n",
        "        if current_valid_loss < self.best_valid_loss:\n",
        "            self.best_valid_loss = current_valid_loss\n",
        "            print(f\"\\nBest validation loss: {self.best_valid_loss}\")\n",
        "            print(f\"\\nSaving best model for epoch: {epoch+1}\\n\")\n",
        "            # method to save a model (the state_dict: a python dictionary object that\n",
        "            # maps each layer to its parameter tensor) and other useful parametrers\n",
        "            torch.save({\n",
        "                'epoch': epoch+1,\n",
        "                'model_state_dict': model.state_dict(),\n",
        "                'optimizer_state_dict': optimizer.state_dict(),\n",
        "                'loss': criterion,\n",
        "                'metric': metric,\n",
        "                }, 'best_model.pth')"
      ]
    },
    {
      "cell_type": "markdown",
      "metadata": {
        "id": "syeVqe9FWnsN",
        "jp-MarkdownHeadingCollapsed": true,
        "tags": []
      },
      "source": [
        "## Training Loop definition"
      ]
    },
    {
      "cell_type": "code",
      "execution_count": null,
      "metadata": {
        "id": "ZMqe-X3kbj3A"
      },
      "outputs": [],
      "source": [
        "def plot_info(train_loss, train_metric, val_loss, val_metric):\n",
        "  # Create figure and subplot\n",
        "  fig, ax = plt.subplots(2,1)\n",
        "\n",
        "  x = np.linspace(0, len(train_loss), len(train_loss));\n",
        "  ax[0].plot(x, train_loss, label='train_loss')\n",
        "  ax[0].plot(x, val_loss, label='val_loss')\n",
        "  ax[0].set_xlabel('Epoch')\n",
        "  ax[0].set_title('Train/Val Loss')\n",
        "  ax[0].legend()\n",
        "\n",
        "  ax[1].plot(x, train_metric, label='train_metric')\n",
        "  ax[1].plot(x, val_metric,  label='val_metric')\n",
        "  ax[1].set_xlabel('Epoch')\n",
        "  ax[1].set_title('Train/Val Metric')\n",
        "  ax[1].legend()"
      ]
    },
    {
      "cell_type": "code",
      "execution_count": null,
      "metadata": {
        "id": "h6gzASp3WqQ-"
      },
      "outputs": [],
      "source": [
        "from torch._C import NoneType\n",
        "def train_model(model, criterion, optimizer, metric_func, scheduler=None, num_epochs=25):\n",
        "  if not LOG_TO_WANDB: print('This run will not be tracked on W&B')\n",
        "  since = time.time()\n",
        "\n",
        "  model.to(device)\n",
        "  print('The model is now in the: ', next(model.parameters()).device)\n",
        "\n",
        "  train_loss = []\n",
        "  train_metric = []\n",
        "  val_loss = []\n",
        "  val_metric = []\n",
        "  log_dict_epoch = {}\n",
        "  log_dict_step = {}\n",
        "\n",
        "  mb = master_bar(range(num_epochs))\n",
        "  if scheduler!=None:\n",
        "    LR=scheduler.get_last_lr()\n",
        "  else:\n",
        "    LR=optimizer.param_groups[0]['lr']\n",
        "\n",
        "  for epoch in mb:\n",
        "    print(f'Epoch {epoch + 1}/{num_epochs} | current LR: {LR}')\n",
        "    print('-' * 10)\n",
        "\n",
        "    # Each epoch has a training and validation phase\n",
        "    for phase in ['train', 'val']:\n",
        "      if phase == 'train': model.train()  # Set model to training mode\n",
        "      else: model.eval()   # Set model to evaluate mode\n",
        "\n",
        "      running_loss = 0.0\n",
        "      running_metric = 0.0\n",
        "\n",
        "      counter = 0\n",
        "\n",
        "      # Iterate over data\n",
        "      for input, label, run in progress_bar(dataloaders[phase], parent=mb):\n",
        "        counter+=1\n",
        "        # zero the parameter gradients\n",
        "        optimizer.zero_grad()\n",
        "\n",
        "        # forward\n",
        "        # track history if only in train\n",
        "        with torch.set_grad_enabled(phase == 'train'):\n",
        "          preds = model(input[:,1:5])\n",
        "          loss = criterion(preds, label[:])\n",
        "          metric = metric_func( preds, label[:] )\n",
        "\n",
        "          # backward + optimize only if in training phase\n",
        "          if phase == 'train':\n",
        "            loss.backward()\n",
        "            optimizer.step()\n",
        "\n",
        "        # statistics\n",
        "        running_loss += loss.item()\n",
        "        running_metric += metric.item()\n",
        "\n",
        "\n",
        "      if (phase == 'train') & (scheduler!=None): scheduler.step()\n",
        "\n",
        "      epoch_loss = running_loss / counter\n",
        "      epoch_metric = running_metric / counter\n",
        "\n",
        "      if phase == 'train':\n",
        "        train_loss.append(epoch_loss)\n",
        "        train_metric.append(epoch_metric)\n",
        "      else:\n",
        "        val_loss.append(epoch_loss)\n",
        "        val_metric.append(epoch_metric)\n",
        "\n",
        "      print(f'{phase} Loss: {epoch_loss:.4f} Metric: {epoch_metric:.4f}')\n",
        "\n",
        "      # saving best model\n",
        "      if phase == 'val':\n",
        "        save_best_model(epoch_loss, epoch, model, optimizer, criterion, metric_func)\n",
        "\n",
        "      # ✍️ Log validation metrics to W&B ✍️\n",
        "      if LOG_TO_WANDB:\n",
        "        if phase == 'train':\n",
        "          # ✍️ Log your loss for this step to wandb ✍️\n",
        "          log_dict_epoch[f'{phase}/loss'] = epoch_loss\n",
        "          log_dict_epoch[f'{phase}/metric'] = epoch_metric\n",
        "\n",
        "        if phase == 'val':\n",
        "          log_dict_epoch[f'{phase}/loss'] = epoch_loss\n",
        "          log_dict_epoch[f'{phase}/metric'] = epoch_metric\n",
        "          wandb.log(log_dict_epoch)\n",
        "\n",
        "    print()\n",
        "\n",
        "  # ✍️ Log your final accuracy as a Summary Metric ✍️\n",
        "  if LOG_TO_WANDB:\n",
        "    wandb.run.summary[\"final_metric\"] = epoch_metric\n",
        "    wandb.run.summary[\"final_loss\"] = epoch_loss\n",
        "    wandb.run.finish()\n",
        "\n",
        "  time_elapsed = time.time() - since\n",
        "  print(f'Training complete in {time_elapsed // 60:.0f}m {time_elapsed % 60:.0f}s')\n",
        "\n",
        "  plot_info(train_loss, train_metric, val_loss, val_metric)\n",
        "  return model"
      ]
    },
    {
      "cell_type": "markdown",
      "metadata": {
        "id": "m1rGNYYN12ke",
        "jp-MarkdownHeadingCollapsed": true,
        "tags": []
      },
      "source": [
        "## Model Training"
      ]
    },
    {
      "cell_type": "code",
      "execution_count": null,
      "metadata": {
        "id": "zQCieRKteEMm"
      },
      "outputs": [],
      "source": [
        "# HYPERPARAMS\n",
        "LR = 0.001\n",
        "num_epochs = 15\n",
        "LOG_TO_WANDB=False\n",
        "STEP_SIZE = 10\n",
        "GAMMA = 0.1"
      ]
    },
    {
      "cell_type": "code",
      "execution_count": null,
      "metadata": {
        "colab": {
          "base_uri": "https://localhost:8080/"
        },
        "id": "F50Yy_lPdp53",
        "outputId": "6fdb2bad-a8ea-4d34-c8dd-81afa60489be"
      },
      "outputs": [
        {
          "output_type": "stream",
          "name": "stdout",
          "text": [
            "The model is in the:  cpu\n"
          ]
        }
      ],
      "source": [
        "# model selection\n",
        "Select=1\n",
        "\n",
        "if Select==1:\n",
        "  model = Simple_MLP()\n",
        "if Select==2:\n",
        "  model = MCH(num_layers=2, hid_channels=16)\n",
        "\n",
        "# model will be sent to device in the training loop\n",
        "print('The model is in the: ', next(model.parameters()).device)\n",
        "\n",
        "# loss\n",
        "loss_func = nn.MSELoss()\n",
        "\n",
        "# optimizer\n",
        "from torch import optim\n",
        "from torch.optim.lr_scheduler import StepLR\n",
        "opt = optim.Adam(model.parameters(), lr=LR)\n",
        "if isinstance(model, MCH):\n",
        "  scheduler = StepLR(opt, step_size=STEP_SIZE, gamma=GAMMA)\n",
        "else:\n",
        "  scheduler=None\n",
        "\n",
        "# metric\n",
        "metric_func = nn.L1Loss()\n",
        "\n",
        "metric2 = nn.MSELoss()\n",
        "\n",
        "save_best_model = SaveBestModel()"
      ]
    },
    {
      "cell_type": "code",
      "execution_count": null,
      "metadata": {
        "id": "IMRyU-Med6ra"
      },
      "outputs": [],
      "source": [
        "if LOG_TO_WANDB:\n",
        "  if isinstance(model, Simple_MLP):\n",
        "    wandb.init(project=model.model_type,\n",
        "              config={\n",
        "                      \"loss_func\": str(loss_func),\n",
        "                      \"metric\": str(metric_func),\n",
        "                      \"optimizer\": 'Adam',\n",
        "                      \"learning_rate\": LR,\n",
        "                      \"epochs\": num_epochs,\n",
        "                      \"batch_size\": BATCH_SIZE,\n",
        "                      \"events_per_dataset\": events_per_dataset,\n",
        "                      \"scheduler step, gamma\": [scheduler.step_size, scheduler.gamma]\n",
        "                      }\n",
        "              )\n",
        "  if isinstance(model, MCH):\n",
        "    wandb.init(project=model.model_type,\n",
        "              config={\n",
        "                      \"loss_func\": str(loss_func),\n",
        "                      \"metric\": str(metric_func),\n",
        "                      \"optimizer\": 'Adam',\n",
        "                      \"learning_rate\": LR,\n",
        "                      \"epochs\": num_epochs,\n",
        "                      \"batch_size\": BATCH_SIZE,\n",
        "                      \"events_per_dataset\": events_per_dataset,\n",
        "                      \"kernel_sizes\": [model.ksize1, model.ksize2, model.ksize3],\n",
        "                      \"hidden layers\": model.num_layers,\n",
        "                      \"hidden layer channels\": model.hidden_channels,\n",
        "                      \"scheduler step, gamma\": [scheduler.step_size, scheduler.gamma]\n",
        "                      }\n",
        "                )\n",
        "\n",
        "  # Start tracking your model's gradients\n",
        "  wandb.watch(model);"
      ]
    },
    {
      "cell_type": "code",
      "execution_count": null,
      "metadata": {
        "id": "1QZsus7FfPK4"
      },
      "outputs": [],
      "source": [
        "model = train_model(model, loss_func, opt, metric_func, scheduler, num_epochs=num_epochs)"
      ]
    },
    {
      "cell_type": "markdown",
      "metadata": {
        "id": "Zky5e1NV2sJl"
      },
      "source": [
        "## Testing Model"
      ]
    },
    {
      "cell_type": "markdown",
      "source": [
        "Here the selected model can be tested on the test set (which the network has never seen during the training), loading a pre-trained checkpoint. \\\\\n",
        "Pre-trained checkpoints can be found in the [Checkpoints folder](https://drive.google.com/drive/folders/1Ko6b-UQ5zfoz-s0IfkkfcdgTjsQWyjKk?usp=sharing) with a brief description attached in the information tab."
      ],
      "metadata": {
        "id": "7alD-BA3Ftn5"
      }
    },
    {
      "cell_type": "code",
      "execution_count": null,
      "metadata": {
        "colab": {
          "base_uri": "https://localhost:8080/"
        },
        "id": "vEU2FF-fg1zb",
        "outputId": "1b45c646-a969-4cb3-dce7-bb742e797d70"
      },
      "outputs": [
        {
          "output_type": "stream",
          "name": "stdout",
          "text": [
            "Best model for MHCNN was saved at 15 epochs\n",
            "\n",
            "Prediction: [[-26.96  27.07]\n",
            " [-27.05  15.07]\n",
            " [-17.97  17.89]\n",
            " [ -9.02  26.87]\n",
            " [ -8.94  20.99]\n",
            " [ -5.98  18.03]]\n",
            "Target: [[-27.  27.]\n",
            " [-27.  15.]\n",
            " [-18.  18.]\n",
            " [ -9.  27.]\n",
            " [ -9.  21.]\n",
            " [ -6.  18.]]\n",
            "Loss: 0.01172076165676117\n",
            "rmse: 0.10826246440410614\n",
            "Test accuracy: 100.00 %\n"
          ]
        }
      ],
      "source": [
        "acc=nn.L1Loss()\n",
        "mse = nn.MSELoss()\n",
        "def accuracy(out, target):\n",
        "  # this metric is not that useful with this type of networks, anyways it offers\n",
        "  # a main idea on the model performances\n",
        "  preds = out.detach().cpu().numpy().round()\n",
        "  return (preds == target.detach().cpu().numpy()).mean()\n",
        "\n",
        "# choose the network\n",
        "network = 'MCH' # or 'MLP'\n",
        "\n",
        "# choose the model checkpoint\n",
        "namefile='best_model_convlin_500events.pth'\n",
        "model_path = data_path+'Checkpoints/'+network+'/'+namefile\n",
        "\n",
        "# load the best model checkpoint\n",
        "best_model = torch.load(model_path) # best_model_convlin\n",
        "best_model_epoch = best_model['epoch']\n",
        "print(f\"Best model for MHCNN was saved at {best_model_epoch} epochs\\n\")\n",
        "\n",
        "model_loaded = (MCH().to(device) if network=='MCH' else Simple_MLP().to(device))\n",
        "model_loaded.load_state_dict(best_model['model_state_dict'])\n",
        "model_loaded.eval()\n",
        "\n",
        "# create dataloader from test samples\n",
        "test_dataloader = DataLoader(test_data, batch_size=128, shuffle=True)\n",
        "\n",
        "# test the model and print some info\n",
        "with torch.no_grad():\n",
        "  for inputs, labels, runs in test_dataloader:\n",
        "    preds = model_loaded(inputs[:,1:5])\n",
        "    lost = loss_func(preds, labels)\n",
        "    rmse = np.sqrt( mse(preds, labels).cpu().numpy() )\n",
        "\n",
        "    print(f'Prediction: {preds[0:6].detach().cpu().numpy().round(2)}')\n",
        "    print(f'Target: {labels[0:6].detach().cpu().numpy()}')\n",
        "    print(f'Loss: {lost}')\n",
        "    print(f'rmse: {rmse}')\n",
        "    print(f'Test accuracy: {accuracy(preds, labels)*1e2:.2f} %')\n",
        "    break # test over just one batch"
      ]
    },
    {
      "cell_type": "markdown",
      "metadata": {
        "id": "ltUXhXPVhJxA",
        "jp-MarkdownHeadingCollapsed": true,
        "tags": []
      },
      "source": [
        "## RMSE Colormap"
      ]
    },
    {
      "cell_type": "markdown",
      "source": [
        "In order to visualize the 'accuracy' of the network predicted values with respect to the true one, the whole dataset is sequentially passed to the best model used in the testing section. \\\\\n",
        "The Root Mean Squared Errors (RMSE) are properly re-organized in a dictionary to keep track of them."
      ],
      "metadata": {
        "id": "8x-UBDGFid-j"
      }
    },
    {
      "cell_type": "code",
      "execution_count": null,
      "metadata": {
        "id": "hD9Cu8s8hQY4"
      },
      "outputs": [],
      "source": [
        "# define the target set to store the correct labels\n",
        "target_set = [ all_dataset[i].label.cpu().numpy() for i in range(len(all_dataset)) ]"
      ]
    },
    {
      "cell_type": "code",
      "execution_count": null,
      "metadata": {
        "id": "OP8r_EycUELT"
      },
      "outputs": [],
      "source": [
        "model_loaded.eval()\n",
        "errors = {}\n",
        "verbose = False # if True, prints some informations\n",
        "with torch.no_grad():\n",
        "  for i in range(len(all_dataset)): # loop over datasets\n",
        "    # compute predictions\n",
        "    preds = model_loaded(all_dataset[i][:][0][:,1:5])\n",
        "    # compute RMSE\n",
        "    error = np.sqrt( mse( preds, torch.tile(all_dataset[i][0][1], (len(all_dataset[0]),1)) ).cpu().numpy() )\n",
        "    # print info\n",
        "    if verbose: print(f'mean pred : {np.mean(preds.cpu().numpy(), axis=0).round(2)}, \\terror : {error:.2f}, \\ttrue : {all_dataset[i][0][1].cpu().numpy()}')\n",
        "    # store RMSE in a dictionary\n",
        "    x, y = all_dataset[i][0][1][0].item(), all_dataset[i][0][1][1].item()\n",
        "    errors[str([x,y])] = error"
      ]
    },
    {
      "cell_type": "markdown",
      "source": [
        "Then the dictionary is converted in a Pandas dataframe, which is easier to work with."
      ],
      "metadata": {
        "id": "ziXG2ZYpjhgt"
      }
    },
    {
      "cell_type": "code",
      "execution_count": null,
      "metadata": {
        "colab": {
          "base_uri": "https://localhost:8080/",
          "height": 363
        },
        "id": "uixXxRY8ns91",
        "outputId": "dc66e7ca-a628-4ceb-ab08-a15c4ca5c48f"
      },
      "outputs": [
        {
          "data": {
            "text/html": [
              "<div>\n",
              "<style scoped>\n",
              "    .dataframe tbody tr th:only-of-type {\n",
              "        vertical-align: middle;\n",
              "    }\n",
              "\n",
              "    .dataframe tbody tr th {\n",
              "        vertical-align: top;\n",
              "    }\n",
              "\n",
              "    .dataframe thead th {\n",
              "        text-align: right;\n",
              "    }\n",
              "</style>\n",
              "<table border=\"1\" class=\"dataframe\">\n",
              "  <thead>\n",
              "    <tr style=\"text-align: right;\">\n",
              "      <th>X [cm]</th>\n",
              "      <th>-30.0</th>\n",
              "      <th>-27.0</th>\n",
              "      <th>-24.0</th>\n",
              "      <th>-21.0</th>\n",
              "      <th>-18.0</th>\n",
              "      <th>-15.0</th>\n",
              "      <th>-12.0</th>\n",
              "      <th>-9.0</th>\n",
              "      <th>-6.0</th>\n",
              "    </tr>\n",
              "    <tr>\n",
              "      <th>Y [cm]</th>\n",
              "      <th></th>\n",
              "      <th></th>\n",
              "      <th></th>\n",
              "      <th></th>\n",
              "      <th></th>\n",
              "      <th></th>\n",
              "      <th></th>\n",
              "      <th></th>\n",
              "      <th></th>\n",
              "    </tr>\n",
              "  </thead>\n",
              "  <tbody>\n",
              "    <tr>\n",
              "      <th>6.0</th>\n",
              "      <td>2.10</td>\n",
              "      <td>1.45</td>\n",
              "      <td>0.99</td>\n",
              "      <td>0.89</td>\n",
              "      <td>1.15</td>\n",
              "      <td>1.16</td>\n",
              "      <td>1.00</td>\n",
              "      <td>2.26</td>\n",
              "      <td>1.90</td>\n",
              "    </tr>\n",
              "    <tr>\n",
              "      <th>9.0</th>\n",
              "      <td>1.51</td>\n",
              "      <td>1.29</td>\n",
              "      <td>0.95</td>\n",
              "      <td>0.79</td>\n",
              "      <td>0.90</td>\n",
              "      <td>0.97</td>\n",
              "      <td>1.36</td>\n",
              "      <td>1.27</td>\n",
              "      <td>0.87</td>\n",
              "    </tr>\n",
              "    <tr>\n",
              "      <th>12.0</th>\n",
              "      <td>0.87</td>\n",
              "      <td>0.82</td>\n",
              "      <td>0.68</td>\n",
              "      <td>0.42</td>\n",
              "      <td>0.57</td>\n",
              "      <td>0.67</td>\n",
              "      <td>0.96</td>\n",
              "      <td>0.98</td>\n",
              "      <td>0.63</td>\n",
              "    </tr>\n",
              "    <tr>\n",
              "      <th>15.0</th>\n",
              "      <td>0.66</td>\n",
              "      <td>0.58</td>\n",
              "      <td>0.45</td>\n",
              "      <td>0.46</td>\n",
              "      <td>0.49</td>\n",
              "      <td>0.34</td>\n",
              "      <td>0.81</td>\n",
              "      <td>0.80</td>\n",
              "      <td>0.35</td>\n",
              "    </tr>\n",
              "    <tr>\n",
              "      <th>18.0</th>\n",
              "      <td>0.81</td>\n",
              "      <td>0.49</td>\n",
              "      <td>0.45</td>\n",
              "      <td>0.56</td>\n",
              "      <td>0.43</td>\n",
              "      <td>0.44</td>\n",
              "      <td>0.44</td>\n",
              "      <td>0.59</td>\n",
              "      <td>0.30</td>\n",
              "    </tr>\n",
              "    <tr>\n",
              "      <th>21.0</th>\n",
              "      <td>0.96</td>\n",
              "      <td>0.79</td>\n",
              "      <td>0.67</td>\n",
              "      <td>0.54</td>\n",
              "      <td>0.59</td>\n",
              "      <td>0.46</td>\n",
              "      <td>0.51</td>\n",
              "      <td>0.44</td>\n",
              "      <td>0.34</td>\n",
              "    </tr>\n",
              "    <tr>\n",
              "      <th>24.0</th>\n",
              "      <td>0.92</td>\n",
              "      <td>0.84</td>\n",
              "      <td>0.70</td>\n",
              "      <td>0.45</td>\n",
              "      <td>0.55</td>\n",
              "      <td>0.54</td>\n",
              "      <td>0.52</td>\n",
              "      <td>0.83</td>\n",
              "      <td>0.37</td>\n",
              "    </tr>\n",
              "    <tr>\n",
              "      <th>27.0</th>\n",
              "      <td>1.02</td>\n",
              "      <td>0.98</td>\n",
              "      <td>0.68</td>\n",
              "      <td>0.51</td>\n",
              "      <td>0.56</td>\n",
              "      <td>0.46</td>\n",
              "      <td>0.67</td>\n",
              "      <td>0.56</td>\n",
              "      <td>1.07</td>\n",
              "    </tr>\n",
              "    <tr>\n",
              "      <th>30.0</th>\n",
              "      <td>1.05</td>\n",
              "      <td>0.92</td>\n",
              "      <td>0.91</td>\n",
              "      <td>0.97</td>\n",
              "      <td>0.54</td>\n",
              "      <td>0.72</td>\n",
              "      <td>1.11</td>\n",
              "      <td>0.76</td>\n",
              "      <td>1.56</td>\n",
              "    </tr>\n",
              "  </tbody>\n",
              "</table>\n",
              "</div>"
            ],
            "text/plain": [
              "X [cm]  -30.0  -27.0  -24.0  -21.0  -18.0  -15.0  -12.0  -9.0   -6.0 \n",
              "Y [cm]                                                               \n",
              "6.0      2.10   1.45   0.99   0.89   1.15   1.16   1.00   2.26   1.90\n",
              "9.0      1.51   1.29   0.95   0.79   0.90   0.97   1.36   1.27   0.87\n",
              "12.0     0.87   0.82   0.68   0.42   0.57   0.67   0.96   0.98   0.63\n",
              "15.0     0.66   0.58   0.45   0.46   0.49   0.34   0.81   0.80   0.35\n",
              "18.0     0.81   0.49   0.45   0.56   0.43   0.44   0.44   0.59   0.30\n",
              "21.0     0.96   0.79   0.67   0.54   0.59   0.46   0.51   0.44   0.34\n",
              "24.0     0.92   0.84   0.70   0.45   0.55   0.54   0.52   0.83   0.37\n",
              "27.0     1.02   0.98   0.68   0.51   0.56   0.46   0.67   0.56   1.07\n",
              "30.0     1.05   0.92   0.91   0.97   0.54   0.72   1.11   0.76   1.56"
            ]
          },
          "execution_count": 28,
          "metadata": {},
          "output_type": "execute_result"
        }
      ],
      "source": [
        "verbose=False # if True, prints some informations\n",
        "\n",
        "# create two lists from the target set to label the columns/rows\n",
        "a = list(set([x for x, y in target_set]))\n",
        "b = list(set([y for x, y in target_set]))\n",
        "# create dataframe's column/rows\n",
        "x_true = pd.Series(a, name='X [cm]')\n",
        "y_true = pd.Series(b, name='Y [cm]')\n",
        "\n",
        "# define the dataframe\n",
        "conf_mat = pd.DataFrame(0, index=y_true, columns=x_true)\n",
        "\n",
        "for i in range(len(x_true)): # loop over columns\n",
        "  for j in range(len(y_true)): # loop over rows\n",
        "    # store the RMSE in the correct position\n",
        "    key = str( [ x_true[i], y_true[j] ] )\n",
        "    err = errors[key]\n",
        "    if verbose: print(f'rmse : { err } \\t (x,y) : {x_true[i], y_true[j]}')\n",
        "    conf_mat.loc[y_true[j], x_true[i]] = float(\"{:.2f}\".format(err))\n",
        "\n",
        "conf_mat"
      ]
    },
    {
      "cell_type": "markdown",
      "source": [
        "At this point a sort of 'confusion matrix' is created, which shows how much the network is wrong (in terms of RMSE) while predicting a certain position."
      ],
      "metadata": {
        "id": "eUsQgPb5lyfg"
      }
    },
    {
      "cell_type": "code",
      "execution_count": null,
      "metadata": {
        "colab": {
          "base_uri": "https://localhost:8080/",
          "height": 1000
        },
        "id": "pOVYSFSu28bk",
        "outputId": "e74e6b68-e1ef-43b9-de1e-afdc2bd7ff59"
      },
      "outputs": [
        {
          "name": "stderr",
          "output_type": "stream",
          "text": [
            "/tmp/ipykernel_78/2014422625.py:6: MatplotlibDeprecationWarning: Auto-removal of grids by pcolor() and pcolormesh() is deprecated since 3.5 and will be removed two minor releases later; please call grid(False) first.\n",
            "  plt.colorbar().ax.set_title('RMSE [cm]')\n"
          ]
        },
        {
          "data": {
            "image/png": "[encoded data removed]",
            "text/plain": [
              "<Figure size 1400x1400 with 2 Axes>"
            ]
          },
          "metadata": {
            "needs_background": "light"
          },
          "output_type": "display_data"
        }
      ],
      "source": [
        "import seaborn as sns\n",
        "# define a function to plot the matrix\n",
        "def plot_confusion_matrix(df_confusion, title='RMSE colormap\\n[MHCNN-best model]', cmap=plt.cm.inferno_r):\n",
        "  plt.matshow(df_confusion, cmap=cmap) # imshow\n",
        "  plt.grid(False)\n",
        "  plt.title(title, y=1.01)\n",
        "  plt.colorbar().ax.set_title('RMSE [cm]')\n",
        "  tick_marks = np.arange(len(df_confusion.columns))\n",
        "  plt.xticks(tick_marks, df_confusion.columns, rotation=-45)\n",
        "  plt.gca().xaxis.tick_bottom()\n",
        "  plt.yticks(tick_marks, df_confusion.index)\n",
        "  plt.ylabel(df_confusion.index.name)\n",
        "  plt.xlabel(df_confusion.columns.name)\n",
        "\n",
        "plot_confusion_matrix(conf_mat_cnn)#, cmap=plt.cm.bwr)\n",
        "plt.savefig('/home/studio-lab-user/sagemaker-studiolab-notebooks/RETE/Plots/conf_matrix_cnn_best.png', dpi=300)\n",
        "plt.savefig('/home/studio-lab-user/sagemaker-studiolab-notebooks/RETE/Plots/conf_matrix_cnn_best.pdf', dpi=300)"
      ]
    },
    {
      "cell_type": "markdown",
      "metadata": {
        "id": "Xl1-XNfMJREu"
      },
      "source": [
        "# Simulation"
      ]
    },
    {
      "cell_type": "markdown",
      "source": [
        "To simulate a signal seen by the PMTs, related to the passage of a particle in a certain position (x,y), a toy has been constructed. \\\\\n",
        "Thereby it is also possible to test the network behaviour in a more continuous way."
      ],
      "metadata": {
        "id": "4edJ2ypBaiuA"
      }
    },
    {
      "cell_type": "markdown",
      "metadata": {
        "id": "LE1cObJVJUsy"
      },
      "source": [
        "## Toy Model Helper Functions"
      ]
    },
    {
      "cell_type": "code",
      "execution_count": null,
      "metadata": {
        "id": "tLmf-FKJKT9B"
      },
      "outputs": [],
      "source": [
        "from numpy import random\n",
        "from scipy.stats import norm\n",
        "def sim_pcle_event():\n",
        "  '''\n",
        "  Returns two variables, (x,y), both uniformly distributed between -30 and 30\n",
        "  '''\n",
        "  x = random.uniform(-30, 30)\n",
        "  y = random.uniform(-30, 30)\n",
        "  return x, y\n",
        "\n",
        "def vect_sum(array):\n",
        "  '''\n",
        "  Returns the quadrature sum of the elements of a given 2D array\n",
        "  '''\n",
        "  return np.sqrt(array[0]**2 + array[1]**2)\n",
        "\n",
        "def compute_relative_pos():\n",
        "  '''\n",
        "  Returns a dictionary containing the relative positions\n",
        "  of the PMTs and a 2D vector containing the (x,y) position\n",
        "  of the simulated event\n",
        "  '''\n",
        "  # define the fixed position of the PMTs\n",
        "  PMT1_xy = np.array([30,30])\n",
        "  PMT2_xy = np.array([30,-30])\n",
        "  PMT3_xy = np.array([-30,-30])\n",
        "  PMT4_xy = np.array([-30,30])\n",
        "\n",
        "  # simulate an event\n",
        "  pcle_xy = np.array(sim_pcle_event())\n",
        "\n",
        "  # compute relative distances\n",
        "  distances = {}\n",
        "  distances['PMT1'] = PMT1_xy - pcle_xy\n",
        "  distances['PMT2'] = PMT2_xy - pcle_xy\n",
        "  distances['PMT3'] = PMT3_xy - pcle_xy\n",
        "  distances['PMT4'] = PMT4_xy - pcle_xy\n",
        "\n",
        "  return distances, pcle_xy\n",
        "\n",
        "def additive_noise():\n",
        "  '''\n",
        "  Returns a Gaussian-distributed value\n",
        "  '''\n",
        "  return random.normal( loc=1, scale=0.5, size=(1024))\n",
        "\n",
        "def simulate_event(batch_size=1, noisy=True, to_tensor=True, device='cpu', visualize=False):\n",
        "  '''\n",
        "  Args:\n",
        "      batch_size: if specified, returns multiple events related to the\n",
        "                  same particleposition (default=1)\n",
        "      noisy: if True, a gaussian noise will be added to the\n",
        "             simulated data (default=True)\n",
        "      to_tensor: if True, it converts the simulated data to a\n",
        "                 torch.Tensor instance (default=True)\n",
        "      device: if specified, moves the output to the preferred\n",
        "              computing device (default='cpu')\n",
        "      visualize: if True, the setup configuration with the simulated\n",
        "                 particle position will be displayed, along with the\n",
        "                 corresponding PMT signals (default=False)\n",
        "\n",
        "  Returns:\n",
        "          a ndarray with shape (batch_size, 4, 1024) which contains 'batch_size'\n",
        "          events with 4 channels (1 per PMT) and 1024 values per channel (the waveforms)\n",
        "  '''\n",
        "  # generate event and compute relative positions\n",
        "  dist, pcle_pos = compute_relative_pos()\n",
        "\n",
        "  # construct waveforms using the gaussian pdf and a correctly spaced time vector\n",
        "  t = np.linspace(0,1024,1024)\n",
        "  PMT_waveforms = 1e5*norm.pdf(t, loc=270, scale=25)\n",
        "\n",
        "  noise=0\n",
        "\n",
        "  # construct the event vector\n",
        "  event=np.zeros(shape=(batch_size,4,1024))\n",
        "  for j in range(batch_size):\n",
        "    if noisy: noise=additive_noise()\n",
        "    event[j] = np.asarray( [ noise + ( 1 / vect_sum( dist[f'PMT{i+1}'] ) )*PMT_waveforms for i in range(4) ] )\n",
        "\n",
        "  # plot setup if requested\n",
        "  if visualize:\n",
        "    PMTs_loc = {'PMT1': np.array([30,30]),\n",
        "                'PMT2': np.array([30,-30]),\n",
        "                'PMT3': np.array([-30,-30]),\n",
        "                'PMT4': np.array([-30,30])\n",
        "                }\n",
        "    show_setup(PMTs_loc, dist, pcle_pos, event)\n",
        "\n",
        "  if not to_tensor:\n",
        "    return event/event.max(), pcle_pos\n",
        "  else:\n",
        "    return torch.Tensor(event/event.max()).to(device), torch.Tensor(pcle_pos).to(device)\n",
        "\n",
        "def show_setup(PMTs_loc, distances, pcle_pos, event):\n",
        "  '''\n",
        "  Help function to display the setup and waveform given the PMT positions,\n",
        "  relative distances wrt the position of the particle and the vector\n",
        "  containing the event(s)\n",
        "  '''\n",
        "  fig = plt.figure(figsize=(5,5), dpi=100)\n",
        "  plt.title('Simulation Setup\\n [green = event , blue = PMTs]')\n",
        "  plt.xlabel('X [cm]')\n",
        "  plt.ylabel('Y [cm]')\n",
        "  for i in range(4):\n",
        "    plt.plot(PMTs_loc[f'PMT{i+1}'][0], PMTs_loc[f'PMT{i+1}'][1], marker=f'${i+1}$', ms=25, mfc='blue', mec='blue')\n",
        "  plt.plot(pcle_pos[0], pcle_pos[1], marker='*', ms=30, mfc='green', mec='green', label='simulated event')\n",
        "\n",
        "  # plt.savefig('/content/drive/MyDrive/PhysLabII-Cygno/Rete/Simulation/setup.pdf')\n",
        "  # plt.savefig('/content/drive/MyDrive/PhysLabII-Cygno/Rete/Simulation/setup.png')\n",
        "  plot(-1*event[0], label=pcle_pos.round(1), run='simulated', trigger=False)"
      ]
    },
    {
      "cell_type": "markdown",
      "metadata": {
        "id": "iVTu6COfO0Fw"
      },
      "source": [
        "## Training over simulated data"
      ]
    },
    {
      "cell_type": "markdown",
      "source": [
        "Here the logic is the same as the one used for the real dataset, although there are some little adjustments, e.g. the fact that the events are generate loop-by-loop and not stored in a dataset which is accessed afterwards."
      ],
      "metadata": {
        "id": "D0Evc2Rqpu5r"
      }
    },
    {
      "cell_type": "code",
      "execution_count": null,
      "metadata": {
        "id": "6qznMaHHN51b"
      },
      "outputs": [],
      "source": [
        "def train_model_on_simulation(model, criterion, optimizer, metric_func, scheduler=None, num_epochs=25, tot_events=100, noise=True, device='cpu'):\n",
        "  since = time.time()\n",
        "\n",
        "  model.to(device)\n",
        "  print('The model is now in the: ', next(model.parameters()).device)\n",
        "\n",
        "  train_loss = []\n",
        "  train_metric = []\n",
        "  val_loss = []\n",
        "  val_metric = []\n",
        "  log_dict_epoch = {}\n",
        "  log_dict_step = {}\n",
        "\n",
        "  mb = master_bar(range(num_epochs))\n",
        "  for epoch in mb:\n",
        "    print(f'Epoch {epoch + 1}/{num_epochs} | current LR: {scheduler.get_last_lr()}')\n",
        "    print('-' * 10)\n",
        "\n",
        "    # Each epoch has a training and validation phase\n",
        "    for phase in ['train', 'val']:\n",
        "      if phase == 'train': model.train()  # Set model to training mode\n",
        "      else: model.eval()   # Set model to evaluate mode\n",
        "\n",
        "      running_loss = 0.0\n",
        "      running_metric = 0.0\n",
        "\n",
        "      counter = 0\n",
        "\n",
        "      # Iterate over data\n",
        "      for j in progress_bar(range(tot_events), parent=mb):\n",
        "        input, label = simulate_event(noisy=noise, device=device)\n",
        "        counter+=1\n",
        "        # zero the parameter gradients\n",
        "        optimizer.zero_grad()\n",
        "\n",
        "        # forward\n",
        "        # track history if only in train\n",
        "        with torch.set_grad_enabled(phase == 'train'):\n",
        "          preds = model(input[:])\n",
        "          loss = criterion(preds, label[:].unsqueeze(0))\n",
        "          metric = metric_func( preds, label[:].unsqueeze(0) )\n",
        "\n",
        "          # backward + optimize only if in training phase\n",
        "          if phase == 'train':\n",
        "            loss.backward()\n",
        "            optimizer.step()\n",
        "\n",
        "        # statistics\n",
        "        running_loss += loss.item()\n",
        "        running_metric += metric.item()\n",
        "\n",
        "\n",
        "      if (scheduler!=None) & (phase == 'train') & isinstance(model, MCH): scheduler.step()\n",
        "\n",
        "      epoch_loss = running_loss / counter\n",
        "      epoch_metric = running_metric / counter\n",
        "\n",
        "      if phase == 'train':\n",
        "        train_loss.append(epoch_loss)\n",
        "        train_metric.append(epoch_metric)\n",
        "      else:\n",
        "        val_loss.append(epoch_loss)\n",
        "        val_metric.append(epoch_metric)\n",
        "\n",
        "      print(f'{phase} Loss: {epoch_loss:.4f} Metric: {epoch_metric:.4f}')\n",
        "\n",
        "      # saving best model\n",
        "      if phase == 'val':\n",
        "        save_best_model(epoch_loss, epoch, model, optimizer, criterion, metric_func)\n",
        "\n",
        "      # ✍️ Log validation metrics to W&B ✍️\n",
        "      if LOG_TO_WANDB:\n",
        "        if phase == 'train':\n",
        "          # ✍️ Log your loss for this step to wandb ✍️\n",
        "          log_dict_epoch[f'{phase}/loss'] = epoch_loss\n",
        "          log_dict_epoch[f'{phase}/metric'] = epoch_metric\n",
        "\n",
        "        if phase == 'val':\n",
        "          log_dict_epoch[f'{phase}/loss'] = epoch_loss\n",
        "          log_dict_epoch[f'{phase}/metric'] = epoch_metric\n",
        "          wandb.log(log_dict_epoch)\n",
        "\n",
        "\n",
        "    print()\n",
        "\n",
        "  if LOG_TO_WANDB:\n",
        "    wandb.run.summary[\"final_metric\"] = epoch_metric\n",
        "    wandb.run.summary[\"final_loss\"] = epoch_loss\n",
        "    wandb.run.finish()\n",
        "\n",
        "  time_elapsed = time.time() - since\n",
        "  print(f'Training complete in {time_elapsed // 60:.0f}m {time_elapsed % 60:.0f}s')\n",
        "\n",
        "  plot_info(train_loss, train_metric, val_loss, val_metric)\n",
        "  return model\n",
        "\n",
        "\n",
        "def plot_info(train_loss, train_metric, val_loss, val_metric):\n",
        "  # Create figure and subplot\n",
        "  fig, ax = plt.subplots(1,2)\n",
        "\n",
        "  x = np.linspace(0, len(train_loss), len(train_loss));\n",
        "  ax[0].plot(x, train_loss, label='train_loss')\n",
        "  ax[0].plot(x, val_loss, label='val_loss')\n",
        "  ax[0].legend()\n",
        "\n",
        "  ax[1].plot(x, train_metric, label='train_metric')\n",
        "  ax[1].plot(x, val_metric,  label='val_metric')\n",
        "  ax[1].legend()"
      ]
    },
    {
      "cell_type": "code",
      "execution_count": null,
      "metadata": {
        "id": "rDpVgsBqWzYJ"
      },
      "outputs": [],
      "source": [
        "# Hyperparams\n",
        "LR = 0.001\n",
        "num_epochs = 20\n",
        "tot_events = 2000\n",
        "noise = True\n",
        "LOG_TO_WANDB=True\n",
        "STEP_SIZE=15\n",
        "GAMMA=0.1\n",
        "\n",
        "# model selection\n",
        "Select=2\n",
        "\n",
        "if Select==1:\n",
        "    model = Simple_MLP()\n",
        "if Select==2:\n",
        "    model = MCH(\n",
        "                ksize1=49,\n",
        "                ksize2=99,\n",
        "                ksize3=199,\n",
        "                num_layers=2,\n",
        "                hid_channels=16\n",
        "                )\n",
        "\n",
        "# loss\n",
        "loss_func = nn.MSELoss()\n",
        "metric_func = nn.L1Loss()\n",
        "\n",
        "# optimizer\n",
        "from torch import optim\n",
        "opt = optim.Adam(model.parameters(), lr=LR)\n",
        "if isinstance(model, MCH): scheduler = StepLR(opt, step_size=STEP_SIZE, gamma=GAMMA)\n",
        "\n",
        "# checkpoint function\n",
        "save_best_model = SaveBestModel()"
      ]
    },
    {
      "cell_type": "code",
      "execution_count": null,
      "metadata": {
        "id": "4F1Inu45gZ5R",
        "tags": [],
        "outputId": "8ca7e219-3f0f-440c-cb98-4582db88bd12"
      },
      "outputs": [
        {
          "data": {
            "text/html": [
              "Tracking run with wandb version 0.12.20"
            ],
            "text/plain": [
              "<IPython.core.display.HTML object>"
            ]
          },
          "metadata": {},
          "output_type": "display_data"
        },
        {
          "data": {
            "text/html": [
              "Run data is saved locally in <code>/home/studio-lab-user/sagemaker-studiolab-notebooks/RETE/wandb/run-20220630_161432-2tkwfmtt</code>"
            ],
            "text/plain": [
              "<IPython.core.display.HTML object>"
            ]
          },
          "metadata": {},
          "output_type": "display_data"
        },
        {
          "data": {
            "text/html": [
              "Syncing run <strong><a href=\"https://wandb.ai/lucaz_/testMCH_simdata/runs/2tkwfmtt\" target=\"_blank\">classic-vortex-1</a></strong> to <a href=\"https://wandb.ai/lucaz_/testMCH_simdata\" target=\"_blank\">Weights & Biases</a> (<a href=\"https://wandb.me/run\" target=\"_blank\">docs</a>)<br/>"
            ],
            "text/plain": [
              "<IPython.core.display.HTML object>"
            ]
          },
          "metadata": {},
          "output_type": "display_data"
        }
      ],
      "source": [
        "if LOG_TO_WANDB:\n",
        "  if isinstance(model, Simple_MLP):\n",
        "    wandb.init(project=str(model.model_type)+'_simdata',\n",
        "           config={\n",
        "                  \"loss_func\": str(loss_func),\n",
        "                  \"metric\": str(metric_func),\n",
        "                  \"optimizer\": 'Adam',\n",
        "                  \"learning_rate\": LR,\n",
        "                  \"epochs\": num_epochs,\n",
        "                  #\"batch_size\": BATCH_SIZE,\n",
        "                  \"events_per_iteration\": tot_events,\n",
        "                  \"noise\": str(noise)+'_scale05'\n",
        "                  }\n",
        "           )\n",
        "  if isinstance(model, MCH):\n",
        "    wandb.init(project=str(model.model_type)+'_simdata',\n",
        "              config={\n",
        "                      \"loss_func\": str(loss_func),\n",
        "                      \"metric\": str(metric_func),\n",
        "                      \"optimizer\": 'Adam',\n",
        "                      \"learning_rate\": LR,\n",
        "                      \"epochs\": num_epochs,\n",
        "                      #\"batch_size\": BATCH_SIZE,\n",
        "                      \"events_per_iteration\": tot_events,\n",
        "                      \"kernel_sizes\": [model.ksize1, model.ksize2, model.ksize3],\n",
        "                      \"hidden layers\": model.num_layers,\n",
        "                      \"hidden layer channels\": model.hidden_channels,\n",
        "                      \"scheduler step, gamma\": [scheduler.step_size, scheduler.gamma]\n",
        "                      }\n",
        "                )\n",
        "\n",
        "  # Start tracking your model's gradients\n",
        "  wandb.watch(model);\n"
      ]
    },
    {
      "cell_type": "code",
      "execution_count": null,
      "metadata": {
        "id": "rOq7gjQBf8d1"
      },
      "outputs": [],
      "source": [
        "model = train_model_on_simulation(model, loss_func, opt, metric_func, scheduler, num_epochs=num_epochs, tot_events=tot_events, noise=noise, device=device)"
      ]
    },
    {
      "cell_type": "markdown",
      "metadata": {
        "id": "0ZpjX_rrKZgn"
      },
      "source": [
        "## Testing model on simulated data"
      ]
    },
    {
      "cell_type": "code",
      "execution_count": null,
      "metadata": {
        "colab": {
          "base_uri": "https://localhost:8080/"
        },
        "id": "OPCLSNxGJb10",
        "outputId": "6570e16b-dde8-4b2a-a364-25fb7bd7ea58"
      },
      "outputs": [
        {
          "name": "stdout",
          "output_type": "stream",
          "text": [
            "Best model was saved at 44 epochs\n",
            "\n"
          ]
        },
        {
          "data": {
            "text/plain": [
              "<All keys matched successfully>"
            ]
          },
          "execution_count": 34,
          "metadata": {},
          "output_type": "execute_result"
        }
      ],
      "source": [
        "# load the best model checkpoint\n",
        "best_model = torch.load('/content/drive/MyDrive/PhysLabII-Cygno/Rete/Checkpoints/best_model_simdata_gpu_nonoise.pth')#, map_location=torch.device('cpu'))\n",
        "best_model_epoch = best_model['epoch']\n",
        "print(f\"Best model was saved at {best_model_epoch} epochs\\n\")\n",
        "\n",
        "model_loaded = Simple_MLP()\n",
        "model_loaded.load_state_dict(best_model['model_state_dict'])"
      ]
    },
    {
      "cell_type": "code",
      "execution_count": null,
      "metadata": {
        "colab": {
          "base_uri": "https://localhost:8080/",
          "height": 885
        },
        "id": "1jybHvsLSd-d",
        "outputId": "7d3e0131-b43d-484f-fdad-675a0d274a54"
      },
      "outputs": [
        {
          "data": {
            "image/png": "[encoded data removed]",
            "text/plain": [
              "<Figure size 2400x1400 with 4 Axes>"
            ]
          },
          "metadata": {
            "needs_background": "light"
          },
          "output_type": "display_data"
        },
        {
          "name": "stdout",
          "output_type": "stream",
          "text": [
            "Prediction: [[-11.2  -25.95]]\n",
            "Target: [-11.17 -25.25]\n",
            "Loss: 0.2500609755516052\n"
          ]
        }
      ],
      "source": [
        "model_loaded.eval()\n",
        "loss_func = nn.MSELoss()\n",
        "BS=1\n",
        "event, target = simulate_event(batch_size=BS, noisy=False)\n",
        "preds = model_loaded(event)\n",
        "lost = loss_func(preds, torch.tile(target, (BS,1)))\n",
        "plot(-1*event[0], label=target, trigger=False)\n",
        "\n",
        "print(f'Prediction: {preds.detach().numpy().round(2)}')\n",
        "print(f'Target: {target.cpu().numpy().round(2)}')\n",
        "print(f'Loss: {lost}')"
      ]
    },
    {
      "cell_type": "markdown",
      "metadata": {
        "id": "Yx42Va1mLRzq"
      },
      "source": [
        "## Confusion Matrix"
      ]
    },
    {
      "cell_type": "markdown",
      "source": [
        "Notice that this time the mapping is almost continuous if the number of sample is sufficiently large. Nevertheless, if testing the MHCNN, it requires some time to run the following cell, also with an available GPU. \\\\\n",
        "e.g. A Tesla T4 completes the task in almost 20 minutes with 10000 simulated events... 😱"
      ],
      "metadata": {
        "id": "_g_sKNu6q96o"
      }
    },
    {
      "cell_type": "code",
      "execution_count": null,
      "metadata": {
        "colab": {
          "base_uri": "https://localhost:8080/",
          "height": 508
        },
        "id": "0Ed9hwMc4tO-",
        "outputId": "c5eddcaf-5071-4dd4-f323-53d81e3112ab"
      },
      "outputs": [
        {
          "data": {
            "text/html": [
              "\n",
              "<style>\n",
              "    /* Turns off some styling */\n",
              "    progress {\n",
              "        /* gets rid of default border in Firefox and Opera. */\n",
              "        border: none;\n",
              "        /* Needs to be in here for Safari polyfill so background images work as expected. */\n",
              "        background-size: auto;\n",
              "    }\n",
              "    .progress-bar-interrupted, .progress-bar-interrupted::-webkit-progress-bar {\n",
              "        background: #F44336;\n",
              "    }\n",
              "</style>\n"
            ],
            "text/plain": [
              "<IPython.core.display.HTML object>"
            ]
          },
          "metadata": {},
          "output_type": "display_data"
        },
        {
          "data": {
            "text/html": [
              "\n",
              "    <div>\n",
              "      <progress value='100000' class='' max='100000' style='width:300px; height:20px; vertical-align: middle;'></progress>\n",
              "      100.00% [100000/100000 20:59<00:00]\n",
              "    </div>\n",
              "    "
            ],
            "text/plain": [
              "<IPython.core.display.HTML object>"
            ]
          },
          "metadata": {},
          "output_type": "display_data"
        },
        {
          "data": {
            "text/html": [
              "\n",
              "  <div id=\"df-dade6005-80fb-4788-b2fb-315928e050a3\">\n",
              "    <div class=\"colab-df-container\">\n",
              "      <div>\n",
              "<style scoped>\n",
              "    .dataframe tbody tr th:only-of-type {\n",
              "        vertical-align: middle;\n",
              "    }\n",
              "\n",
              "    .dataframe tbody tr th {\n",
              "        vertical-align: top;\n",
              "    }\n",
              "\n",
              "    .dataframe thead th {\n",
              "        text-align: right;\n",
              "    }\n",
              "</style>\n",
              "<table border=\"1\" class=\"dataframe\">\n",
              "  <thead>\n",
              "    <tr style=\"text-align: right;\">\n",
              "      <th></th>\n",
              "      <th>-29.0</th>\n",
              "      <th>7.0</th>\n",
              "      <th>-6.0</th>\n",
              "      <th>0.0</th>\n",
              "      <th>3.0</th>\n",
              "      <th>-11.0</th>\n",
              "      <th>12.0</th>\n",
              "      <th>-21.0</th>\n",
              "      <th>-17.0</th>\n",
              "      <th>-3.0</th>\n",
              "      <th>...</th>\n",
              "      <th>9.0</th>\n",
              "      <th>5.0</th>\n",
              "      <th>4.0</th>\n",
              "      <th>-9.0</th>\n",
              "      <th>-19.0</th>\n",
              "      <th>-18.0</th>\n",
              "      <th>10.0</th>\n",
              "      <th>-20.0</th>\n",
              "      <th>-22.0</th>\n",
              "      <th>26.0</th>\n",
              "    </tr>\n",
              "  </thead>\n",
              "  <tbody>\n",
              "    <tr>\n",
              "      <th>-7.0</th>\n",
              "      <td>0.981267</td>\n",
              "      <td>0.145428</td>\n",
              "      <td>0.296984</td>\n",
              "      <td>0.566888</td>\n",
              "      <td>0.164996</td>\n",
              "      <td>0.499271</td>\n",
              "      <td>0.275498</td>\n",
              "      <td>0.943171</td>\n",
              "      <td>0.880535</td>\n",
              "      <td>0.459257</td>\n",
              "      <td>...</td>\n",
              "      <td>0.076724</td>\n",
              "      <td>0.187287</td>\n",
              "      <td>0.170502</td>\n",
              "      <td>0.348634</td>\n",
              "      <td>0.984453</td>\n",
              "      <td>1.027953</td>\n",
              "      <td>0.109606</td>\n",
              "      <td>1.038994</td>\n",
              "      <td>0.868907</td>\n",
              "      <td>0.741400</td>\n",
              "    </tr>\n",
              "    <tr>\n",
              "      <th>-24.0</th>\n",
              "      <td>1.893090</td>\n",
              "      <td>0.418408</td>\n",
              "      <td>0.732399</td>\n",
              "      <td>1.168010</td>\n",
              "      <td>0.396432</td>\n",
              "      <td>0.759530</td>\n",
              "      <td>0.739470</td>\n",
              "      <td>0.896031</td>\n",
              "      <td>0.578601</td>\n",
              "      <td>0.630172</td>\n",
              "      <td>...</td>\n",
              "      <td>0.636117</td>\n",
              "      <td>0.332088</td>\n",
              "      <td>0.327287</td>\n",
              "      <td>1.004717</td>\n",
              "      <td>0.747673</td>\n",
              "      <td>0.588249</td>\n",
              "      <td>0.702484</td>\n",
              "      <td>0.810801</td>\n",
              "      <td>0.942575</td>\n",
              "      <td>1.479545</td>\n",
              "    </tr>\n",
              "    <tr>\n",
              "      <th>2.0</th>\n",
              "      <td>0.412125</td>\n",
              "      <td>0.406120</td>\n",
              "      <td>0.369203</td>\n",
              "      <td>0.631244</td>\n",
              "      <td>0.178801</td>\n",
              "      <td>0.360579</td>\n",
              "      <td>0.553539</td>\n",
              "      <td>0.902492</td>\n",
              "      <td>0.407607</td>\n",
              "      <td>0.663689</td>\n",
              "      <td>...</td>\n",
              "      <td>0.493827</td>\n",
              "      <td>0.138459</td>\n",
              "      <td>0.057145</td>\n",
              "      <td>0.222337</td>\n",
              "      <td>0.635217</td>\n",
              "      <td>0.629073</td>\n",
              "      <td>0.598693</td>\n",
              "      <td>0.831368</td>\n",
              "      <td>0.943756</td>\n",
              "      <td>0.649715</td>\n",
              "    </tr>\n",
              "    <tr>\n",
              "      <th>-1.0</th>\n",
              "      <td>0.823920</td>\n",
              "      <td>0.062172</td>\n",
              "      <td>0.669460</td>\n",
              "      <td>0.149867</td>\n",
              "      <td>0.169468</td>\n",
              "      <td>0.849827</td>\n",
              "      <td>0.186689</td>\n",
              "      <td>1.174956</td>\n",
              "      <td>0.788532</td>\n",
              "      <td>0.495655</td>\n",
              "      <td>...</td>\n",
              "      <td>0.049810</td>\n",
              "      <td>0.226369</td>\n",
              "      <td>0.237604</td>\n",
              "      <td>0.704003</td>\n",
              "      <td>1.137213</td>\n",
              "      <td>0.901035</td>\n",
              "      <td>0.056190</td>\n",
              "      <td>1.122656</td>\n",
              "      <td>1.495610</td>\n",
              "      <td>0.208316</td>\n",
              "    </tr>\n",
              "    <tr>\n",
              "      <th>-2.0</th>\n",
              "      <td>0.728746</td>\n",
              "      <td>0.101722</td>\n",
              "      <td>0.607728</td>\n",
              "      <td>0.212082</td>\n",
              "      <td>0.224118</td>\n",
              "      <td>0.745826</td>\n",
              "      <td>0.238390</td>\n",
              "      <td>1.088421</td>\n",
              "      <td>0.685554</td>\n",
              "      <td>0.345155</td>\n",
              "      <td>...</td>\n",
              "      <td>0.038708</td>\n",
              "      <td>0.200602</td>\n",
              "      <td>0.266447</td>\n",
              "      <td>0.750466</td>\n",
              "      <td>0.743190</td>\n",
              "      <td>0.698644</td>\n",
              "      <td>0.091018</td>\n",
              "      <td>0.785871</td>\n",
              "      <td>1.086369</td>\n",
              "      <td>0.468231</td>\n",
              "    </tr>\n",
              "    <tr>\n",
              "      <th>...</th>\n",
              "      <td>...</td>\n",
              "      <td>...</td>\n",
              "      <td>...</td>\n",
              "      <td>...</td>\n",
              "      <td>...</td>\n",
              "      <td>...</td>\n",
              "      <td>...</td>\n",
              "      <td>...</td>\n",
              "      <td>...</td>\n",
              "      <td>...</td>\n",
              "      <td>...</td>\n",
              "      <td>...</td>\n",
              "      <td>...</td>\n",
              "      <td>...</td>\n",
              "      <td>...</td>\n",
              "      <td>...</td>\n",
              "      <td>...</td>\n",
              "      <td>...</td>\n",
              "      <td>...</td>\n",
              "      <td>...</td>\n",
              "      <td>...</td>\n",
              "    </tr>\n",
              "    <tr>\n",
              "      <th>13.0</th>\n",
              "      <td>1.523331</td>\n",
              "      <td>0.217921</td>\n",
              "      <td>0.565582</td>\n",
              "      <td>0.468244</td>\n",
              "      <td>0.182862</td>\n",
              "      <td>0.695984</td>\n",
              "      <td>0.233632</td>\n",
              "      <td>0.584832</td>\n",
              "      <td>0.737758</td>\n",
              "      <td>0.031647</td>\n",
              "      <td>...</td>\n",
              "      <td>0.116514</td>\n",
              "      <td>0.177578</td>\n",
              "      <td>0.195716</td>\n",
              "      <td>0.660587</td>\n",
              "      <td>0.715707</td>\n",
              "      <td>0.776808</td>\n",
              "      <td>0.327033</td>\n",
              "      <td>0.617864</td>\n",
              "      <td>0.533066</td>\n",
              "      <td>0.640996</td>\n",
              "    </tr>\n",
              "    <tr>\n",
              "      <th>-21.0</th>\n",
              "      <td>1.865021</td>\n",
              "      <td>0.354355</td>\n",
              "      <td>0.811614</td>\n",
              "      <td>0.748095</td>\n",
              "      <td>0.191188</td>\n",
              "      <td>0.793704</td>\n",
              "      <td>0.748260</td>\n",
              "      <td>1.012264</td>\n",
              "      <td>0.731620</td>\n",
              "      <td>0.534307</td>\n",
              "      <td>...</td>\n",
              "      <td>0.636080</td>\n",
              "      <td>0.204311</td>\n",
              "      <td>0.201173</td>\n",
              "      <td>0.973736</td>\n",
              "      <td>0.882435</td>\n",
              "      <td>0.822417</td>\n",
              "      <td>0.652719</td>\n",
              "      <td>0.951790</td>\n",
              "      <td>1.010183</td>\n",
              "      <td>1.781065</td>\n",
              "    </tr>\n",
              "    <tr>\n",
              "      <th>30.0</th>\n",
              "      <td>1.431101</td>\n",
              "      <td>1.644771</td>\n",
              "      <td>1.311531</td>\n",
              "      <td>0.700055</td>\n",
              "      <td>0.917506</td>\n",
              "      <td>1.132388</td>\n",
              "      <td>1.069932</td>\n",
              "      <td>1.729599</td>\n",
              "      <td>1.161819</td>\n",
              "      <td>0.751702</td>\n",
              "      <td>...</td>\n",
              "      <td>1.632042</td>\n",
              "      <td>1.395939</td>\n",
              "      <td>1.187161</td>\n",
              "      <td>1.126933</td>\n",
              "      <td>1.536365</td>\n",
              "      <td>1.172152</td>\n",
              "      <td>1.366124</td>\n",
              "      <td>1.485624</td>\n",
              "      <td>1.582369</td>\n",
              "      <td>4.086821</td>\n",
              "    </tr>\n",
              "    <tr>\n",
              "      <th>-6.0</th>\n",
              "      <td>0.875755</td>\n",
              "      <td>0.022486</td>\n",
              "      <td>0.381866</td>\n",
              "      <td>0.484765</td>\n",
              "      <td>0.164975</td>\n",
              "      <td>0.500522</td>\n",
              "      <td>0.325054</td>\n",
              "      <td>0.908238</td>\n",
              "      <td>0.798487</td>\n",
              "      <td>0.452516</td>\n",
              "      <td>...</td>\n",
              "      <td>0.109076</td>\n",
              "      <td>0.247511</td>\n",
              "      <td>0.207403</td>\n",
              "      <td>0.438666</td>\n",
              "      <td>0.976019</td>\n",
              "      <td>0.869153</td>\n",
              "      <td>0.191538</td>\n",
              "      <td>0.941436</td>\n",
              "      <td>0.856923</td>\n",
              "      <td>0.890384</td>\n",
              "    </tr>\n",
              "    <tr>\n",
              "      <th>-30.0</th>\n",
              "      <td>0.360070</td>\n",
              "      <td>1.615565</td>\n",
              "      <td>0.687945</td>\n",
              "      <td>0.479634</td>\n",
              "      <td>1.066443</td>\n",
              "      <td>0.457040</td>\n",
              "      <td>2.213515</td>\n",
              "      <td>1.340099</td>\n",
              "      <td>1.222247</td>\n",
              "      <td>0.496344</td>\n",
              "      <td>...</td>\n",
              "      <td>1.770014</td>\n",
              "      <td>1.493400</td>\n",
              "      <td>1.189015</td>\n",
              "      <td>0.318327</td>\n",
              "      <td>1.370396</td>\n",
              "      <td>1.318700</td>\n",
              "      <td>2.053382</td>\n",
              "      <td>1.344337</td>\n",
              "      <td>1.553473</td>\n",
              "      <td>1.286966</td>\n",
              "    </tr>\n",
              "  </tbody>\n",
              "</table>\n",
              "<p>62 rows × 62 columns</p>\n",
              "</div>\n",
              "      <button class=\"colab-df-convert\" onclick=\"convertToInteractive('df-dade6005-80fb-4788-b2fb-315928e050a3')\"\n",
              "              title=\"Convert this dataframe to an interactive table.\"\n",
              "              style=\"display:none;\">\n",
              "        \n",
              "  <svg xmlns=\"http://www.w3.org/2000/svg\" height=\"24px\"viewBox=\"0 0 24 24\"\n",
              "       width=\"24px\">\n",
              "    <path d=\"M0 0h24v24H0V0z\" fill=\"none\"/>\n",
              "    <path d=\"M18.56 5.44l.94 2.06.94-2.06 2.06-.94-2.06-.94-.94-2.06-.94 2.06-2.06.94zm-11 1L8.5 8.5l.94-2.06 2.06-.94-2.06-.94L8.5 2.5l-.94 2.06-2.06.94zm10 10l.94 2.06.94-2.06 2.06-.94-2.06-.94-.94-2.06-.94 2.06-2.06.94z\"/><path d=\"M17.41 7.96l-1.37-1.37c-.4-.4-.92-.59-1.43-.59-.52 0-1.04.2-1.43.59L10.3 9.45l-7.72 7.72c-.78.78-.78 2.05 0 2.83L4 21.41c.39.39.9.59 1.41.59.51 0 1.02-.2 1.41-.59l7.78-7.78 2.81-2.81c.8-.78.8-2.07 0-2.86zM5.41 20L4 18.59l7.72-7.72 1.47 1.35L5.41 20z\"/>\n",
              "  </svg>\n",
              "      </button>\n",
              "      \n",
              "  <style>\n",
              "    .colab-df-container {\n",
              "      display:flex;\n",
              "      flex-wrap:wrap;\n",
              "      gap: 12px;\n",
              "    }\n",
              "\n",
              "    .colab-df-convert {\n",
              "      background-color: #E8F0FE;\n",
              "      border: none;\n",
              "      border-radius: 50%;\n",
              "      cursor: pointer;\n",
              "      display: none;\n",
              "      fill: #1967D2;\n",
              "      height: 32px;\n",
              "      padding: 0 0 0 0;\n",
              "      width: 32px;\n",
              "    }\n",
              "\n",
              "    .colab-df-convert:hover {\n",
              "      background-color: #E2EBFA;\n",
              "      box-shadow: 0px 1px 2px rgba(60, 64, 67, 0.3), 0px 1px 3px 1px rgba(60, 64, 67, 0.15);\n",
              "      fill: #174EA6;\n",
              "    }\n",
              "\n",
              "    [theme=dark] .colab-df-convert {\n",
              "      background-color: #3B4455;\n",
              "      fill: #D2E3FC;\n",
              "    }\n",
              "\n",
              "    [theme=dark] .colab-df-convert:hover {\n",
              "      background-color: #434B5C;\n",
              "      box-shadow: 0px 1px 3px 1px rgba(0, 0, 0, 0.15);\n",
              "      filter: drop-shadow(0px 1px 2px rgba(0, 0, 0, 0.3));\n",
              "      fill: #FFFFFF;\n",
              "    }\n",
              "  </style>\n",
              "\n",
              "      <script>\n",
              "        const buttonEl =\n",
              "          document.querySelector('#df-dade6005-80fb-4788-b2fb-315928e050a3 button.colab-df-convert');\n",
              "        buttonEl.style.display =\n",
              "          google.colab.kernel.accessAllowed ? 'block' : 'none';\n",
              "\n",
              "        async function convertToInteractive(key) {\n",
              "          const element = document.querySelector('#df-dade6005-80fb-4788-b2fb-315928e050a3');\n",
              "          const dataTable =\n",
              "            await google.colab.kernel.invokeFunction('convertToInteractive',\n",
              "                                                     [key], {});\n",
              "          if (!dataTable) return;\n",
              "\n",
              "          const docLinkHtml = 'Like what you see? Visit the ' +\n",
              "            '<a target=\"_blank\" href=https://colab.research.google.com/notebooks/data_table.ipynb>data table notebook</a>'\n",
              "            + ' to learn more about interactive tables.';\n",
              "          element.innerHTML = '';\n",
              "          dataTable['output_type'] = 'display_data';\n",
              "          await google.colab.output.renderOutput(dataTable, element);\n",
              "          const docLink = document.createElement('div');\n",
              "          docLink.innerHTML = docLinkHtml;\n",
              "          element.appendChild(docLink);\n",
              "        }\n",
              "      </script>\n",
              "    </div>\n",
              "  </div>\n",
              "  "
            ],
            "text/plain": [
              "          -29.0       7.0      -6.0       0.0       3.0     -11.0      12.0  \\\n",
              "-7.0   0.981267  0.145428  0.296984  0.566888  0.164996  0.499271  0.275498   \n",
              "-24.0  1.893090  0.418408  0.732399  1.168010  0.396432  0.759530  0.739470   \n",
              "2.0    0.412125  0.406120  0.369203  0.631244  0.178801  0.360579  0.553539   \n",
              "-1.0   0.823920  0.062172  0.669460  0.149867  0.169468  0.849827  0.186689   \n",
              "-2.0   0.728746  0.101722  0.607728  0.212082  0.224118  0.745826  0.238390   \n",
              "...         ...       ...       ...       ...       ...       ...       ...   \n",
              "13.0   1.523331  0.217921  0.565582  0.468244  0.182862  0.695984  0.233632   \n",
              "-21.0  1.865021  0.354355  0.811614  0.748095  0.191188  0.793704  0.748260   \n",
              "30.0   1.431101  1.644771  1.311531  0.700055  0.917506  1.132388  1.069932   \n",
              "-6.0   0.875755  0.022486  0.381866  0.484765  0.164975  0.500522  0.325054   \n",
              "-30.0  0.360070  1.615565  0.687945  0.479634  1.066443  0.457040  2.213515   \n",
              "\n",
              "          -21.0     -17.0      -3.0  ...       9.0       5.0       4.0  \\\n",
              "-7.0   0.943171  0.880535  0.459257  ...  0.076724  0.187287  0.170502   \n",
              "-24.0  0.896031  0.578601  0.630172  ...  0.636117  0.332088  0.327287   \n",
              "2.0    0.902492  0.407607  0.663689  ...  0.493827  0.138459  0.057145   \n",
              "-1.0   1.174956  0.788532  0.495655  ...  0.049810  0.226369  0.237604   \n",
              "-2.0   1.088421  0.685554  0.345155  ...  0.038708  0.200602  0.266447   \n",
              "...         ...       ...       ...  ...       ...       ...       ...   \n",
              "13.0   0.584832  0.737758  0.031647  ...  0.116514  0.177578  0.195716   \n",
              "-21.0  1.012264  0.731620  0.534307  ...  0.636080  0.204311  0.201173   \n",
              "30.0   1.729599  1.161819  0.751702  ...  1.632042  1.395939  1.187161   \n",
              "-6.0   0.908238  0.798487  0.452516  ...  0.109076  0.247511  0.207403   \n",
              "-30.0  1.340099  1.222247  0.496344  ...  1.770014  1.493400  1.189015   \n",
              "\n",
              "           -9.0     -19.0     -18.0      10.0     -20.0     -22.0      26.0  \n",
              "-7.0   0.348634  0.984453  1.027953  0.109606  1.038994  0.868907  0.741400  \n",
              "-24.0  1.004717  0.747673  0.588249  0.702484  0.810801  0.942575  1.479545  \n",
              "2.0    0.222337  0.635217  0.629073  0.598693  0.831368  0.943756  0.649715  \n",
              "-1.0   0.704003  1.137213  0.901035  0.056190  1.122656  1.495610  0.208316  \n",
              "-2.0   0.750466  0.743190  0.698644  0.091018  0.785871  1.086369  0.468231  \n",
              "...         ...       ...       ...       ...       ...       ...       ...  \n",
              "13.0   0.660587  0.715707  0.776808  0.327033  0.617864  0.533066  0.640996  \n",
              "-21.0  0.973736  0.882435  0.822417  0.652719  0.951790  1.010183  1.781065  \n",
              "30.0   1.126933  1.536365  1.172152  1.366124  1.485624  1.582369  4.086821  \n",
              "-6.0   0.438666  0.976019  0.869153  0.191538  0.941436  0.856923  0.890384  \n",
              "-30.0  0.318327  1.370396  1.318700  2.053382  1.344337  1.553473  1.286966  \n",
              "\n",
              "[62 rows x 62 columns]"
            ]
          },
          "execution_count": 38,
          "metadata": {},
          "output_type": "execute_result"
        }
      ],
      "source": [
        "BS=32\n",
        "df = pd.DataFrame()\n",
        "with torch.no_grad():\n",
        "  for _ in progress_bar(range(int(1e5))):\n",
        "    event, target = simulate_event(batch_size=BS, noisy=False)\n",
        "    preds = model_loaded(event)\n",
        "    rmse = np.sqrt( loss_func(preds, torch.tile(target, (BS,1))).cpu().numpy() )\n",
        "    df.loc[str(target[0].cpu().numpy().round(0)), str(target[1].cpu().numpy().round(0))] = rmse\n",
        "\n",
        "df"
      ]
    },
    {
      "cell_type": "code",
      "execution_count": null,
      "metadata": {
        "colab": {
          "base_uri": "https://localhost:8080/",
          "height": 1000
        },
        "id": "II-Fx-qF6osM",
        "outputId": "aeabc1b3-0366-4f7b-c02c-d9573c461b04"
      },
      "outputs": [
        {
          "data": {
            "image/png": "[encoded data removed]",
            "text/plain": [
              "<Figure size 1400x1400 with 2 Axes>"
            ]
          },
          "metadata": {
            "needs_background": "light"
          },
          "output_type": "display_data"
        }
      ],
      "source": [
        "import seaborn as sns\n",
        "def plot_confusion_matrix(df_confusion, title='RMSE colormap\\n[no-noise-trained MLP model on clean simulated data]', cmap=plt.cm.inferno_r):\n",
        "  corr_index = [str(string) for string in np.sort([float(x) for x in df.columns])]\n",
        "  X = np.sort(np.asarray([float(x) for x in df.columns]))\n",
        "  Y = np.sort(np.asarray([float(y) for y in df.index]))\n",
        "  sorted_df = df_confusion.reindex(columns=corr_index, index=corr_index)\n",
        "  plt.matshow(sorted_df, cmap=cmap) # imshow\n",
        "  plt.title(title, y=1.01)\n",
        "  plt.colorbar().ax.set_title('RMSE [cm]')\n",
        "  plt.grid(False)\n",
        "\n",
        "  tick_marks_x = np.arange(len(sorted_df.columns), step=3)\n",
        "  tick_marks_y = np.arange(len(sorted_df.index), step=3)\n",
        "  plt.xticks(tick_marks_x, sorted_df.columns, rotation=-45)\n",
        "  plt.gca().xaxis.tick_bottom()\n",
        "  plt.yticks(tick_marks_y, sorted_df.index)\n",
        "\n",
        "  plt.ylabel('Y [cm]')\n",
        "  plt.xlabel('X [cm]')\n",
        "\n",
        "plot_confusion_matrix(df)\n",
        "# plt.savefig('/content/drive/MyDrive/PhysLabII-Cygno/Rete/Plots/Sim/conf_matrix_simdata_nonoise_on_clean.pdf', dpi=300)\n",
        "# plt.savefig('/content/drive/MyDrive/PhysLabII-Cygno/Rete/Plots/Sim/conf_matrix_simdata_nonoise_on_clean.png', dpi=300)"
      ]
    },
    {
      "cell_type": "code",
      "execution_count": null,
      "metadata": {
        "id": "zTvmKea9Hvq4"
      },
      "outputs": [],
      "source": []
    }
  ],
  "metadata": {
    "accelerator": "GPU",
    "colab": {
      "collapsed_sections": [
        "fawvTpBeQH8Y",
        "9BFRjZiPQPkP",
        "vU-Mjd6-9rG0",
        "JdSwj7m4wWxK",
        "7Q9B8D68wbIy",
        "DMg7XMAdW41B",
        "lqsTfjB1WORB",
        "bqxcnfcpXJoc",
        "nHQVhY7FXwD2",
        "syeVqe9FWnsN",
        "m1rGNYYN12ke",
        "Zky5e1NV2sJl",
        "ltUXhXPVhJxA",
        "Xl1-XNfMJREu",
        "LE1cObJVJUsy",
        "iVTu6COfO0Fw",
        "0ZpjX_rrKZgn",
        "Yx42Va1mLRzq"
      ],
      "provenance": []
    },
    "gpuClass": "standard",
    "kernelspec": {
      "display_name": "default:Python",
      "language": "python",
      "name": "conda-env-default-py"
    },
    "language_info": {
      "codemirror_mode": {
        "name": "ipython",
        "version": 3
      },
      "file_extension": ".py",
      "mimetype": "text/x-python",
      "name": "python",
      "nbconvert_exporter": "python",
      "pygments_lexer": "ipython3",
      "version": "3.9.7"
    }
  },
  "nbformat": 4,
  "nbformat_minor": 0
}
